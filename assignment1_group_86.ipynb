{
  "nbformat": 4,
  "nbformat_minor": 0,
  "metadata": {
    "colab": {
      "provenance": [],
      "collapsed_sections": [
        "H6qpQGqdgZxD"
      ]
    },
    "kernelspec": {
      "name": "python3",
      "display_name": "Python 3"
    },
    "language_info": {
      "name": "python"
    }
  },
  "cells": [
    {
      "cell_type": "code",
      "execution_count": 2,
      "metadata": {
        "id": "saY4I3wrdnRy"
      },
      "outputs": [],
      "source": [
        "import pandas as pd\n",
        "import numpy as np\n",
        "import matplotlib.pyplot as plt\n",
        "# from google.colab import drive\n",
        "# drive.mount('/content/drive')"
      ]
    },
    {
      "cell_type": "code",
      "source": [
        "!pip install ucimlrepo"
      ],
      "metadata": {
        "colab": {
          "base_uri": "https://localhost:8080/"
        },
        "id": "XVo0WyyQSQ64",
        "outputId": "1819ad14-04c9-4fb3-802b-e72cc542139e"
      },
      "execution_count": 3,
      "outputs": [
        {
          "output_type": "stream",
          "name": "stdout",
          "text": [
            "Collecting ucimlrepo\n",
            "  Downloading ucimlrepo-0.0.3-py3-none-any.whl (7.0 kB)\n",
            "Installing collected packages: ucimlrepo\n",
            "Successfully installed ucimlrepo-0.0.3\n"
          ]
        }
      ]
    },
    {
      "cell_type": "markdown",
      "source": [
        "## Task 1: Fetch/Load the datasets + Clean and Analyze"
      ],
      "metadata": {
        "id": "H6qpQGqdgZxD"
      }
    },
    {
      "cell_type": "markdown",
      "source": [
        "### Dataset 1: NHANES age prediction subset"
      ],
      "metadata": {
        "id": "ZcAmESYzw4KA"
      }
    },
    {
      "cell_type": "markdown",
      "source": [
        "Loading dataset"
      ],
      "metadata": {
        "id": "6ghyRgmDfFoN"
      }
    },
    {
      "cell_type": "code",
      "source": [
        "from ucimlrepo import fetch_ucirepo\n",
        "\n",
        "# fetch dataset 1\n",
        "nhanes_age_prediction_subset = fetch_ucirepo(id=887)\n",
        "\n",
        "# data (as pandas dataframes)\n",
        "nhanes_age_prediction_subset_X = nhanes_age_prediction_subset.data.features\n",
        "nhanes_age_prediction_subset_y = nhanes_age_prediction_subset.data.targets\n",
        "\n",
        "#Save raw data for DT top 5 features\n",
        "araw=nhanes_age_prediction_subset_X.to_numpy()\n",
        "print(araw)\n",
        "# metadata\n",
        "print(nhanes_age_prediction_subset.metadata)\n",
        "\n",
        "# variable information\n",
        "print(nhanes_age_prediction_subset.variables)\n"
      ],
      "metadata": {
        "colab": {
          "base_uri": "https://localhost:8080/"
        },
        "id": "s0mVUbqggJYi",
        "outputId": "a9870801-9297-4343-965b-5bdc8a073be4"
      },
      "execution_count": 4,
      "outputs": [
        {
          "output_type": "stream",
          "name": "stdout",
          "text": [
            "[[  2.     2.    35.7  ...   2.   150.    14.91]\n",
            " [  2.     2.    20.3  ...   2.    80.     3.85]\n",
            " [  1.     2.    23.2  ...   2.    68.     6.14]\n",
            " ...\n",
            " [  1.     2.    23.7  ...   2.   124.    21.41]\n",
            " [  2.     2.    27.4  ...   2.   108.     4.99]\n",
            " [  1.     2.    24.5  ...   2.   108.     3.76]]\n",
            "{'uci_id': 887, 'name': 'National Health and Nutrition Health Survey 2013-2014 (NHANES) Age Prediction Subset', 'repository_url': 'https://archive.ics.uci.edu/dataset/887/national+health+and+nutrition+health+survey+2013-2014+(nhanes)+age+prediction+subset', 'data_url': 'https://archive.ics.uci.edu/static/public/887/data.csv', 'abstract': \"The National Health and Nutrition Examination Survey (NHANES), administered by the Centers for Disease Control and Prevention (CDC), collects extensive health and nutritional information from a diverse U.S. population. Though expansive, the dataset is often too broad for specific analytical purposes. In this sub-dataset, we narrow our focus to predicting respondents' age by extracting a subset of features from the larger NHANES dataset. These selected features include physiological measurements, lifestyle choices, and biochemical markers, which were hypothesized to have strong correlations with age.\", 'area': 'Health and Medicine', 'tasks': ['Classification'], 'characteristics': ['Tabular'], 'num_instances': 6287, 'num_features': 7, 'feature_types': ['Real', 'Categorical', 'Integer'], 'demographics': ['Age', 'Gender'], 'target_col': ['age_group'], 'index_col': ['SEQN'], 'has_missing_values': 'no', 'missing_values_symbol': None, 'year_of_dataset_creation': 2019, 'last_updated': 'Fri Nov 03 2023', 'dataset_doi': '10.24432/C5BS66', 'creators': ['NA NA'], 'intro_paper': {'title': 'A data-driven approach to predicting diabetes and cardiovascular disease with machine learning', 'authors': 'An Dinh, Stacey Miertschin, Amber Young, S. Mohanty', 'published_in': 'BMC Medical Informatics and Decision Making', 'year': 2019, 'url': 'https://www.semanticscholar.org/paper/01af1548ff1f3661d8bb813e8c35ee219a79ca9f', 'doi': None}, 'additional_info': {'summary': 'The original full dataset can be found at:\\n\\nhttps://wwwn.cdc.gov/nchs/nhanes/search/DataPage.aspx?Component=Questionnaire&CycleBeginYear=2013', 'purpose': 'The NHANES dataset was created to assess the health and nutritional status of adults and children in the United States. \\n', 'funded_by': 'Centers for Disease Control and Prevention (CDC), specifically through its National Center for Health Statistics (NCHS)\\n', 'instances_represent': 'Survey respondents throughout the United States\\n\\nData was gathered through interviews, physical examinations, and laboratory tests.', 'recommended_data_splits': None, 'sensitive_data': None, 'preprocessing_description': 'For this subset respondents 65 years old and older were labeled  as “senior” and all individuals under 65 years old as “non-senior.”\\n', 'variable_info': None, 'citation': 'Please acknowledge the National Center for Health Statistics (NCHS) at the Centers for Disease Control and Prevention (CDC)'}}\n",
            "        name     role         type demographic  \\\n",
            "0       SEQN       ID   Continuous        None   \n",
            "1  age_group   Target  Categorical         Age   \n",
            "2   RIDAGEYR    Other   Continuous         Age   \n",
            "3   RIAGENDR  Feature   Continuous      Gender   \n",
            "4     PAQ605  Feature   Continuous        None   \n",
            "5     BMXBMI  Feature   Continuous        None   \n",
            "6     LBXGLU  Feature   Continuous        None   \n",
            "7     DIQ010  Feature   Continuous        None   \n",
            "8     LBXGLT  Feature   Continuous        None   \n",
            "9      LBXIN  Feature   Continuous        None   \n",
            "\n",
            "                                         description units missing_values  \n",
            "0                         Respondent Sequence Number  None             no  \n",
            "1         Respondent's Age Group (senior/non-senior)  None             no  \n",
            "2                                   Respondent's Age  None             no  \n",
            "3                                Respondent's Gender  None             no  \n",
            "4  If the respondent engages in moderate or vigor...  None             no  \n",
            "5                       Respondent's Body Mass Index  None             no  \n",
            "6           Respondent's Blood Glucose after fasting  None             no  \n",
            "7                      If the Respondent is diabetic  None             no  \n",
            "8                                 Respondent's Oral   None             no  \n",
            "9                  Respondent's Blood Insulin Levels  None             no  \n"
          ]
        }
      ]
    },
    {
      "cell_type": "markdown",
      "source": [
        "Analyzing"
      ],
      "metadata": {
        "id": "GNIPflt0eOg6"
      }
    },
    {
      "cell_type": "code",
      "source": [
        "print(nhanes_age_prediction_subset_X.head(10))\n",
        "print(nhanes_age_prediction_subset_X.shape)\n",
        "#nhanes_age_prediction_subset_X.isnull().sum() no null values\n",
        "#nhanes_age_prediction_subset_y.isnull().sum() no null values"
      ],
      "metadata": {
        "colab": {
          "base_uri": "https://localhost:8080/"
        },
        "id": "UfMaw2F4hnGo",
        "outputId": "8a2094e4-3929-4859-bccc-6415637ecab8"
      },
      "execution_count": 5,
      "outputs": [
        {
          "output_type": "stream",
          "name": "stdout",
          "text": [
            "   RIAGENDR  PAQ605  BMXBMI  LBXGLU  DIQ010  LBXGLT  LBXIN\n",
            "0       2.0     2.0    35.7   110.0     2.0   150.0  14.91\n",
            "1       2.0     2.0    20.3    89.0     2.0    80.0   3.85\n",
            "2       1.0     2.0    23.2    89.0     2.0    68.0   6.14\n",
            "3       1.0     2.0    28.9   104.0     2.0    84.0  16.15\n",
            "4       2.0     1.0    35.9   103.0     2.0    81.0  10.92\n",
            "5       1.0     2.0    23.6   110.0     2.0   100.0   6.08\n",
            "6       1.0     2.0    38.7    94.0     2.0   202.0  21.11\n",
            "7       2.0     2.0    38.3   107.0     2.0   164.0  20.93\n",
            "8       1.0     2.0    38.9    89.0     2.0   113.0  17.47\n",
            "9       1.0     1.0    28.9    90.0     2.0    95.0   3.24\n",
            "(2278, 7)\n"
          ]
        }
      ]
    },
    {
      "cell_type": "code",
      "source": [
        "print(nhanes_age_prediction_subset_y.head(10))\n",
        "print(nhanes_age_prediction_subset_y.shape)\n",
        "nhanes_age_prediction_subset_y['age_group'].value_counts()"
      ],
      "metadata": {
        "colab": {
          "base_uri": "https://localhost:8080/"
        },
        "id": "_NCUb1iBnH1s",
        "outputId": "23e19232-be18-44b9-b2e7-7307a506f7c4"
      },
      "execution_count": 6,
      "outputs": [
        {
          "output_type": "stream",
          "name": "stdout",
          "text": [
            "  age_group\n",
            "0     Adult\n",
            "1     Adult\n",
            "2     Adult\n",
            "3     Adult\n",
            "4     Adult\n",
            "5     Adult\n",
            "6     Adult\n",
            "7     Adult\n",
            "8    Senior\n",
            "9     Adult\n",
            "(2278, 1)\n"
          ]
        },
        {
          "output_type": "execute_result",
          "data": {
            "text/plain": [
              "Adult     1914\n",
              "Senior     364\n",
              "Name: age_group, dtype: int64"
            ]
          },
          "metadata": {},
          "execution_count": 6
        }
      ]
    },
    {
      "cell_type": "code",
      "source": [
        "# from scipy import stats\n",
        "# for column in nhanes_age_prediction_subset_X:\n",
        "#   nhanes_age_prediction_subset_X[column] = stats.zscore(nhanes_age_prediction_subset_X[column])"
      ],
      "metadata": {
        "id": "mO0D0drG0du_"
      },
      "execution_count": 7,
      "outputs": []
    },
    {
      "cell_type": "code",
      "source": [
        "# analyzing dataset 1\n",
        "# get positive group (senior)\n",
        "senior_subset_y = nhanes_age_prediction_subset_y[nhanes_age_prediction_subset_y.age_group =='Senior']\n",
        "senior_idx = list(senior_subset_y.index.values)\n",
        "print(senior_idx)\n",
        "senior_subset_X = nhanes_age_prediction_subset_X.iloc[senior_idx]\n",
        "print(senior_subset_X)\n",
        "\n",
        "# get negative group (adult)\n",
        "adult_subset_y = nhanes_age_prediction_subset_y[nhanes_age_prediction_subset_y.age_group =='Adult']\n",
        "adult_idx = list(adult_subset_y.index.values)\n",
        "adult_subset_X = nhanes_age_prediction_subset_X.iloc[adult_idx]\n",
        "print(adult_subset_X)"
      ],
      "metadata": {
        "colab": {
          "base_uri": "https://localhost:8080/"
        },
        "id": "JItnc3ClnpFR",
        "outputId": "39182a1f-e2c2-4a92-c4e1-38aa707e53e0"
      },
      "execution_count": 8,
      "outputs": [
        {
          "output_type": "stream",
          "name": "stdout",
          "text": [
            "[8, 12, 14, 15, 18, 27, 34, 54, 60, 69, 88, 93, 98, 103, 113, 115, 119, 123, 136, 143, 160, 162, 165, 166, 167, 176, 180, 186, 203, 205, 207, 212, 220, 224, 238, 239, 248, 257, 289, 296, 311, 318, 325, 332, 342, 349, 353, 364, 365, 367, 369, 374, 376, 386, 389, 408, 409, 425, 426, 429, 435, 438, 444, 470, 473, 477, 478, 481, 492, 512, 513, 514, 521, 522, 525, 529, 535, 548, 554, 556, 560, 562, 565, 569, 590, 593, 602, 612, 617, 623, 624, 626, 631, 637, 638, 640, 641, 642, 643, 650, 653, 656, 657, 664, 676, 677, 684, 695, 696, 702, 708, 714, 724, 729, 745, 748, 756, 760, 769, 776, 777, 778, 782, 786, 788, 799, 807, 816, 817, 829, 839, 841, 850, 853, 854, 878, 879, 884, 885, 888, 896, 900, 909, 912, 914, 918, 920, 924, 929, 933, 935, 936, 942, 957, 969, 974, 1001, 1016, 1023, 1024, 1041, 1043, 1051, 1062, 1067, 1070, 1072, 1082, 1095, 1097, 1103, 1110, 1113, 1124, 1126, 1134, 1138, 1140, 1147, 1153, 1154, 1158, 1164, 1167, 1174, 1179, 1189, 1190, 1209, 1210, 1219, 1222, 1233, 1237, 1239, 1241, 1243, 1244, 1265, 1274, 1280, 1291, 1303, 1305, 1311, 1322, 1324, 1327, 1328, 1341, 1365, 1367, 1377, 1378, 1392, 1398, 1403, 1409, 1415, 1417, 1423, 1424, 1431, 1432, 1435, 1441, 1448, 1456, 1466, 1472, 1475, 1486, 1493, 1505, 1509, 1510, 1512, 1514, 1523, 1528, 1532, 1549, 1553, 1570, 1579, 1581, 1586, 1591, 1594, 1595, 1599, 1600, 1606, 1609, 1613, 1619, 1624, 1625, 1637, 1638, 1644, 1646, 1661, 1681, 1683, 1695, 1713, 1714, 1722, 1723, 1724, 1728, 1746, 1748, 1749, 1750, 1753, 1758, 1761, 1771, 1773, 1783, 1795, 1796, 1799, 1800, 1806, 1809, 1827, 1834, 1840, 1841, 1844, 1846, 1848, 1850, 1856, 1858, 1868, 1879, 1885, 1887, 1889, 1896, 1908, 1937, 1941, 1949, 1957, 1970, 1976, 1988, 1992, 1993, 2015, 2022, 2026, 2028, 2030, 2035, 2043, 2046, 2048, 2051, 2056, 2061, 2065, 2076, 2090, 2092, 2096, 2097, 2100, 2101, 2110, 2111, 2115, 2122, 2126, 2128, 2130, 2137, 2140, 2143, 2155, 2157, 2158, 2177, 2182, 2184, 2187, 2190, 2192, 2206, 2221, 2233, 2239, 2244, 2249, 2250, 2256, 2259, 2268, 2271]\n",
            "      RIAGENDR  PAQ605  BMXBMI  LBXGLU  DIQ010  LBXGLT  LBXIN\n",
            "8          1.0     2.0    38.9    89.0     2.0   113.0  17.47\n",
            "12         1.0     2.0    24.6   100.0     2.0    97.0   4.33\n",
            "14         1.0     2.0    30.3   133.0     2.0   295.0  22.92\n",
            "15         2.0     1.0    22.1   114.0     2.0   150.0  10.09\n",
            "18         2.0     2.0    46.1   139.0     2.0   154.0  42.67\n",
            "...        ...     ...     ...     ...     ...     ...    ...\n",
            "2250       1.0     2.0    24.9   105.0     2.0   100.0   9.50\n",
            "2256       2.0     2.0    26.0   106.0     2.0   166.0  13.32\n",
            "2259       1.0     2.0    24.2   116.0     2.0   157.0  13.81\n",
            "2268       1.0     2.0    19.1    89.0     2.0   136.0   1.56\n",
            "2271       2.0     2.0    27.9   111.0     2.0    72.0  13.91\n",
            "\n",
            "[364 rows x 7 columns]\n",
            "      RIAGENDR  PAQ605  BMXBMI  LBXGLU  DIQ010  LBXGLT  LBXIN\n",
            "0          2.0     2.0    35.7   110.0     2.0   150.0  14.91\n",
            "1          2.0     2.0    20.3    89.0     2.0    80.0   3.85\n",
            "2          1.0     2.0    23.2    89.0     2.0    68.0   6.14\n",
            "3          1.0     2.0    28.9   104.0     2.0    84.0  16.15\n",
            "4          2.0     1.0    35.9   103.0     2.0    81.0  10.92\n",
            "...        ...     ...     ...     ...     ...     ...    ...\n",
            "2273       2.0     2.0    33.5   100.0     2.0    73.0   6.53\n",
            "2274       1.0     2.0    30.0    93.0     2.0   208.0  13.02\n",
            "2275       1.0     2.0    23.7   103.0     2.0   124.0  21.41\n",
            "2276       2.0     2.0    27.4    90.0     2.0   108.0   4.99\n",
            "2277       1.0     2.0    24.5   108.0     2.0   108.0   3.76\n",
            "\n",
            "[1914 rows x 7 columns]\n"
          ]
        }
      ]
    },
    {
      "cell_type": "code",
      "source": [
        "# mean of each feature for positive group (senior)\n",
        "senior_means = senior_subset_X.describe().loc['mean']\n",
        "#print(senior_means)\n",
        "\n",
        "# mean of each feature for negative group (adult)\n",
        "adult_means = adult_subset_X.describe().loc['mean']\n",
        "#print(adult_means)\n",
        "\n",
        "# combine into 1 dataframe\n",
        "nhanes_means = pd.concat([senior_means, adult_means], axis=1)\n",
        "nhanes_means.columns = ['senior means', 'adult means']\n",
        "print(nhanes_means)"
      ],
      "metadata": {
        "colab": {
          "base_uri": "https://localhost:8080/"
        },
        "id": "gRG7-WcntCY6",
        "outputId": "83d0b6a9-eadb-413d-a901-574b4b598800"
      },
      "execution_count": 9,
      "outputs": [
        {
          "output_type": "stream",
          "name": "stdout",
          "text": [
            "          senior means  adult means\n",
            "RIAGENDR      1.508242     1.512017\n",
            "PAQ605        1.909341     1.806165\n",
            "BMXBMI       27.886264    27.968286\n",
            "LBXGLU      104.329670    98.644723\n",
            "DIQ010        2.027473     2.014107\n",
            "LBXGLT      141.208791   109.990596\n",
            "LBXIN        10.405247    12.106661\n"
          ]
        }
      ]
    },
    {
      "cell_type": "code",
      "source": [
        "# squared difference of means for each feature\n",
        "nhanes_square_diff = np.square(nhanes_means['senior means'] - nhanes_means['adult means'])\n",
        "# print(nhanes_square_diff)\n",
        "nhanes_square_diff.sort_values(ascending=False)"
      ],
      "metadata": {
        "colab": {
          "base_uri": "https://localhost:8080/"
        },
        "id": "ON5FyUnzSmvA",
        "outputId": "2af675c3-7b2d-4d7a-8c4e-dc5aec1a2e17"
      },
      "execution_count": 10,
      "outputs": [
        {
          "output_type": "execute_result",
          "data": {
            "text/plain": [
              "LBXGLT      974.575736\n",
              "LBXGLU       32.318625\n",
              "LBXIN         2.894810\n",
              "PAQ605        0.010645\n",
              "BMXBMI        0.006728\n",
              "DIQ010        0.000179\n",
              "RIAGENDR      0.000014\n",
              "dtype: float64"
            ]
          },
          "metadata": {},
          "execution_count": 10
        }
      ]
    },
    {
      "cell_type": "markdown",
      "source": [
        "Preprocessing: dropping features"
      ],
      "metadata": {
        "id": "LWPJL4YheY9Z"
      }
    },
    {
      "cell_type": "code",
      "source": [
        "# dropping features that are not as correlated\n",
        "nhanes_age_prediction_subset_X = nhanes_age_prediction_subset_X.drop(['BMXBMI', 'DIQ010', 'RIAGENDR', 'PAQ605'], axis=1)\n",
        "nhanes_age_prediction_subset_X"
      ],
      "metadata": {
        "colab": {
          "base_uri": "https://localhost:8080/",
          "height": 0
        },
        "id": "Hw8xruhVmL-O",
        "outputId": "af1f9917-7656-4170-b931-02597a32935d"
      },
      "execution_count": 11,
      "outputs": [
        {
          "output_type": "execute_result",
          "data": {
            "text/plain": [
              "      LBXGLU  LBXGLT  LBXIN\n",
              "0      110.0   150.0  14.91\n",
              "1       89.0    80.0   3.85\n",
              "2       89.0    68.0   6.14\n",
              "3      104.0    84.0  16.15\n",
              "4      103.0    81.0  10.92\n",
              "...      ...     ...    ...\n",
              "2273   100.0    73.0   6.53\n",
              "2274    93.0   208.0  13.02\n",
              "2275   103.0   124.0  21.41\n",
              "2276    90.0   108.0   4.99\n",
              "2277   108.0   108.0   3.76\n",
              "\n",
              "[2278 rows x 3 columns]"
            ],
            "text/html": [
              "\n",
              "  <div id=\"df-7e79ce35-5f18-4690-adb7-a6b9cfa474c5\" class=\"colab-df-container\">\n",
              "    <div>\n",
              "<style scoped>\n",
              "    .dataframe tbody tr th:only-of-type {\n",
              "        vertical-align: middle;\n",
              "    }\n",
              "\n",
              "    .dataframe tbody tr th {\n",
              "        vertical-align: top;\n",
              "    }\n",
              "\n",
              "    .dataframe thead th {\n",
              "        text-align: right;\n",
              "    }\n",
              "</style>\n",
              "<table border=\"1\" class=\"dataframe\">\n",
              "  <thead>\n",
              "    <tr style=\"text-align: right;\">\n",
              "      <th></th>\n",
              "      <th>LBXGLU</th>\n",
              "      <th>LBXGLT</th>\n",
              "      <th>LBXIN</th>\n",
              "    </tr>\n",
              "  </thead>\n",
              "  <tbody>\n",
              "    <tr>\n",
              "      <th>0</th>\n",
              "      <td>110.0</td>\n",
              "      <td>150.0</td>\n",
              "      <td>14.91</td>\n",
              "    </tr>\n",
              "    <tr>\n",
              "      <th>1</th>\n",
              "      <td>89.0</td>\n",
              "      <td>80.0</td>\n",
              "      <td>3.85</td>\n",
              "    </tr>\n",
              "    <tr>\n",
              "      <th>2</th>\n",
              "      <td>89.0</td>\n",
              "      <td>68.0</td>\n",
              "      <td>6.14</td>\n",
              "    </tr>\n",
              "    <tr>\n",
              "      <th>3</th>\n",
              "      <td>104.0</td>\n",
              "      <td>84.0</td>\n",
              "      <td>16.15</td>\n",
              "    </tr>\n",
              "    <tr>\n",
              "      <th>4</th>\n",
              "      <td>103.0</td>\n",
              "      <td>81.0</td>\n",
              "      <td>10.92</td>\n",
              "    </tr>\n",
              "    <tr>\n",
              "      <th>...</th>\n",
              "      <td>...</td>\n",
              "      <td>...</td>\n",
              "      <td>...</td>\n",
              "    </tr>\n",
              "    <tr>\n",
              "      <th>2273</th>\n",
              "      <td>100.0</td>\n",
              "      <td>73.0</td>\n",
              "      <td>6.53</td>\n",
              "    </tr>\n",
              "    <tr>\n",
              "      <th>2274</th>\n",
              "      <td>93.0</td>\n",
              "      <td>208.0</td>\n",
              "      <td>13.02</td>\n",
              "    </tr>\n",
              "    <tr>\n",
              "      <th>2275</th>\n",
              "      <td>103.0</td>\n",
              "      <td>124.0</td>\n",
              "      <td>21.41</td>\n",
              "    </tr>\n",
              "    <tr>\n",
              "      <th>2276</th>\n",
              "      <td>90.0</td>\n",
              "      <td>108.0</td>\n",
              "      <td>4.99</td>\n",
              "    </tr>\n",
              "    <tr>\n",
              "      <th>2277</th>\n",
              "      <td>108.0</td>\n",
              "      <td>108.0</td>\n",
              "      <td>3.76</td>\n",
              "    </tr>\n",
              "  </tbody>\n",
              "</table>\n",
              "<p>2278 rows × 3 columns</p>\n",
              "</div>\n",
              "    <div class=\"colab-df-buttons\">\n",
              "\n",
              "  <div class=\"colab-df-container\">\n",
              "    <button class=\"colab-df-convert\" onclick=\"convertToInteractive('df-7e79ce35-5f18-4690-adb7-a6b9cfa474c5')\"\n",
              "            title=\"Convert this dataframe to an interactive table.\"\n",
              "            style=\"display:none;\">\n",
              "\n",
              "  <svg xmlns=\"http://www.w3.org/2000/svg\" height=\"24px\" viewBox=\"0 -960 960 960\">\n",
              "    <path d=\"M120-120v-720h720v720H120Zm60-500h600v-160H180v160Zm220 220h160v-160H400v160Zm0 220h160v-160H400v160ZM180-400h160v-160H180v160Zm440 0h160v-160H620v160ZM180-180h160v-160H180v160Zm440 0h160v-160H620v160Z\"/>\n",
              "  </svg>\n",
              "    </button>\n",
              "\n",
              "  <style>\n",
              "    .colab-df-container {\n",
              "      display:flex;\n",
              "      gap: 12px;\n",
              "    }\n",
              "\n",
              "    .colab-df-convert {\n",
              "      background-color: #E8F0FE;\n",
              "      border: none;\n",
              "      border-radius: 50%;\n",
              "      cursor: pointer;\n",
              "      display: none;\n",
              "      fill: #1967D2;\n",
              "      height: 32px;\n",
              "      padding: 0 0 0 0;\n",
              "      width: 32px;\n",
              "    }\n",
              "\n",
              "    .colab-df-convert:hover {\n",
              "      background-color: #E2EBFA;\n",
              "      box-shadow: 0px 1px 2px rgba(60, 64, 67, 0.3), 0px 1px 3px 1px rgba(60, 64, 67, 0.15);\n",
              "      fill: #174EA6;\n",
              "    }\n",
              "\n",
              "    .colab-df-buttons div {\n",
              "      margin-bottom: 4px;\n",
              "    }\n",
              "\n",
              "    [theme=dark] .colab-df-convert {\n",
              "      background-color: #3B4455;\n",
              "      fill: #D2E3FC;\n",
              "    }\n",
              "\n",
              "    [theme=dark] .colab-df-convert:hover {\n",
              "      background-color: #434B5C;\n",
              "      box-shadow: 0px 1px 3px 1px rgba(0, 0, 0, 0.15);\n",
              "      filter: drop-shadow(0px 1px 2px rgba(0, 0, 0, 0.3));\n",
              "      fill: #FFFFFF;\n",
              "    }\n",
              "  </style>\n",
              "\n",
              "    <script>\n",
              "      const buttonEl =\n",
              "        document.querySelector('#df-7e79ce35-5f18-4690-adb7-a6b9cfa474c5 button.colab-df-convert');\n",
              "      buttonEl.style.display =\n",
              "        google.colab.kernel.accessAllowed ? 'block' : 'none';\n",
              "\n",
              "      async function convertToInteractive(key) {\n",
              "        const element = document.querySelector('#df-7e79ce35-5f18-4690-adb7-a6b9cfa474c5');\n",
              "        const dataTable =\n",
              "          await google.colab.kernel.invokeFunction('convertToInteractive',\n",
              "                                                    [key], {});\n",
              "        if (!dataTable) return;\n",
              "\n",
              "        const docLinkHtml = 'Like what you see? Visit the ' +\n",
              "          '<a target=\"_blank\" href=https://colab.research.google.com/notebooks/data_table.ipynb>data table notebook</a>'\n",
              "          + ' to learn more about interactive tables.';\n",
              "        element.innerHTML = '';\n",
              "        dataTable['output_type'] = 'display_data';\n",
              "        await google.colab.output.renderOutput(dataTable, element);\n",
              "        const docLink = document.createElement('div');\n",
              "        docLink.innerHTML = docLinkHtml;\n",
              "        element.appendChild(docLink);\n",
              "      }\n",
              "    </script>\n",
              "  </div>\n",
              "\n",
              "\n",
              "<div id=\"df-e6a2cfc7-9f3a-4f37-9b35-e96aa762c0a9\">\n",
              "  <button class=\"colab-df-quickchart\" onclick=\"quickchart('df-e6a2cfc7-9f3a-4f37-9b35-e96aa762c0a9')\"\n",
              "            title=\"Suggest charts\"\n",
              "            style=\"display:none;\">\n",
              "\n",
              "<svg xmlns=\"http://www.w3.org/2000/svg\" height=\"24px\"viewBox=\"0 0 24 24\"\n",
              "     width=\"24px\">\n",
              "    <g>\n",
              "        <path d=\"M19 3H5c-1.1 0-2 .9-2 2v14c0 1.1.9 2 2 2h14c1.1 0 2-.9 2-2V5c0-1.1-.9-2-2-2zM9 17H7v-7h2v7zm4 0h-2V7h2v10zm4 0h-2v-4h2v4z\"/>\n",
              "    </g>\n",
              "</svg>\n",
              "  </button>\n",
              "\n",
              "<style>\n",
              "  .colab-df-quickchart {\n",
              "      --bg-color: #E8F0FE;\n",
              "      --fill-color: #1967D2;\n",
              "      --hover-bg-color: #E2EBFA;\n",
              "      --hover-fill-color: #174EA6;\n",
              "      --disabled-fill-color: #AAA;\n",
              "      --disabled-bg-color: #DDD;\n",
              "  }\n",
              "\n",
              "  [theme=dark] .colab-df-quickchart {\n",
              "      --bg-color: #3B4455;\n",
              "      --fill-color: #D2E3FC;\n",
              "      --hover-bg-color: #434B5C;\n",
              "      --hover-fill-color: #FFFFFF;\n",
              "      --disabled-bg-color: #3B4455;\n",
              "      --disabled-fill-color: #666;\n",
              "  }\n",
              "\n",
              "  .colab-df-quickchart {\n",
              "    background-color: var(--bg-color);\n",
              "    border: none;\n",
              "    border-radius: 50%;\n",
              "    cursor: pointer;\n",
              "    display: none;\n",
              "    fill: var(--fill-color);\n",
              "    height: 32px;\n",
              "    padding: 0;\n",
              "    width: 32px;\n",
              "  }\n",
              "\n",
              "  .colab-df-quickchart:hover {\n",
              "    background-color: var(--hover-bg-color);\n",
              "    box-shadow: 0 1px 2px rgba(60, 64, 67, 0.3), 0 1px 3px 1px rgba(60, 64, 67, 0.15);\n",
              "    fill: var(--button-hover-fill-color);\n",
              "  }\n",
              "\n",
              "  .colab-df-quickchart-complete:disabled,\n",
              "  .colab-df-quickchart-complete:disabled:hover {\n",
              "    background-color: var(--disabled-bg-color);\n",
              "    fill: var(--disabled-fill-color);\n",
              "    box-shadow: none;\n",
              "  }\n",
              "\n",
              "  .colab-df-spinner {\n",
              "    border: 2px solid var(--fill-color);\n",
              "    border-color: transparent;\n",
              "    border-bottom-color: var(--fill-color);\n",
              "    animation:\n",
              "      spin 1s steps(1) infinite;\n",
              "  }\n",
              "\n",
              "  @keyframes spin {\n",
              "    0% {\n",
              "      border-color: transparent;\n",
              "      border-bottom-color: var(--fill-color);\n",
              "      border-left-color: var(--fill-color);\n",
              "    }\n",
              "    20% {\n",
              "      border-color: transparent;\n",
              "      border-left-color: var(--fill-color);\n",
              "      border-top-color: var(--fill-color);\n",
              "    }\n",
              "    30% {\n",
              "      border-color: transparent;\n",
              "      border-left-color: var(--fill-color);\n",
              "      border-top-color: var(--fill-color);\n",
              "      border-right-color: var(--fill-color);\n",
              "    }\n",
              "    40% {\n",
              "      border-color: transparent;\n",
              "      border-right-color: var(--fill-color);\n",
              "      border-top-color: var(--fill-color);\n",
              "    }\n",
              "    60% {\n",
              "      border-color: transparent;\n",
              "      border-right-color: var(--fill-color);\n",
              "    }\n",
              "    80% {\n",
              "      border-color: transparent;\n",
              "      border-right-color: var(--fill-color);\n",
              "      border-bottom-color: var(--fill-color);\n",
              "    }\n",
              "    90% {\n",
              "      border-color: transparent;\n",
              "      border-bottom-color: var(--fill-color);\n",
              "    }\n",
              "  }\n",
              "</style>\n",
              "\n",
              "  <script>\n",
              "    async function quickchart(key) {\n",
              "      const quickchartButtonEl =\n",
              "        document.querySelector('#' + key + ' button');\n",
              "      quickchartButtonEl.disabled = true;  // To prevent multiple clicks.\n",
              "      quickchartButtonEl.classList.add('colab-df-spinner');\n",
              "      try {\n",
              "        const charts = await google.colab.kernel.invokeFunction(\n",
              "            'suggestCharts', [key], {});\n",
              "      } catch (error) {\n",
              "        console.error('Error during call to suggestCharts:', error);\n",
              "      }\n",
              "      quickchartButtonEl.classList.remove('colab-df-spinner');\n",
              "      quickchartButtonEl.classList.add('colab-df-quickchart-complete');\n",
              "    }\n",
              "    (() => {\n",
              "      let quickchartButtonEl =\n",
              "        document.querySelector('#df-e6a2cfc7-9f3a-4f37-9b35-e96aa762c0a9 button');\n",
              "      quickchartButtonEl.style.display =\n",
              "        google.colab.kernel.accessAllowed ? 'block' : 'none';\n",
              "    })();\n",
              "  </script>\n",
              "</div>\n",
              "\n",
              "  <div id=\"id_cdb6fe4e-c614-4dee-a017-ca1beffd1183\">\n",
              "    <style>\n",
              "      .colab-df-generate {\n",
              "        background-color: #E8F0FE;\n",
              "        border: none;\n",
              "        border-radius: 50%;\n",
              "        cursor: pointer;\n",
              "        display: none;\n",
              "        fill: #1967D2;\n",
              "        height: 32px;\n",
              "        padding: 0 0 0 0;\n",
              "        width: 32px;\n",
              "      }\n",
              "\n",
              "      .colab-df-generate:hover {\n",
              "        background-color: #E2EBFA;\n",
              "        box-shadow: 0px 1px 2px rgba(60, 64, 67, 0.3), 0px 1px 3px 1px rgba(60, 64, 67, 0.15);\n",
              "        fill: #174EA6;\n",
              "      }\n",
              "\n",
              "      [theme=dark] .colab-df-generate {\n",
              "        background-color: #3B4455;\n",
              "        fill: #D2E3FC;\n",
              "      }\n",
              "\n",
              "      [theme=dark] .colab-df-generate:hover {\n",
              "        background-color: #434B5C;\n",
              "        box-shadow: 0px 1px 3px 1px rgba(0, 0, 0, 0.15);\n",
              "        filter: drop-shadow(0px 1px 2px rgba(0, 0, 0, 0.3));\n",
              "        fill: #FFFFFF;\n",
              "      }\n",
              "    </style>\n",
              "    <button class=\"colab-df-generate\" onclick=\"generateWithVariable('nhanes_age_prediction_subset_X')\"\n",
              "            title=\"Generate code using this dataframe.\"\n",
              "            style=\"display:none;\">\n",
              "\n",
              "  <svg xmlns=\"http://www.w3.org/2000/svg\" height=\"24px\"viewBox=\"0 0 24 24\"\n",
              "       width=\"24px\">\n",
              "    <path d=\"M7,19H8.4L18.45,9,17,7.55,7,17.6ZM5,21V16.75L18.45,3.32a2,2,0,0,1,2.83,0l1.4,1.43a1.91,1.91,0,0,1,.58,1.4,1.91,1.91,0,0,1-.58,1.4L9.25,21ZM18.45,9,17,7.55Zm-12,3A5.31,5.31,0,0,0,4.9,8.1,5.31,5.31,0,0,0,1,6.5,5.31,5.31,0,0,0,4.9,4.9,5.31,5.31,0,0,0,6.5,1,5.31,5.31,0,0,0,8.1,4.9,5.31,5.31,0,0,0,12,6.5,5.46,5.46,0,0,0,6.5,12Z\"/>\n",
              "  </svg>\n",
              "    </button>\n",
              "    <script>\n",
              "      (() => {\n",
              "      const buttonEl =\n",
              "        document.querySelector('#id_cdb6fe4e-c614-4dee-a017-ca1beffd1183 button.colab-df-generate');\n",
              "      buttonEl.style.display =\n",
              "        google.colab.kernel.accessAllowed ? 'block' : 'none';\n",
              "\n",
              "      buttonEl.onclick = () => {\n",
              "        google.colab.notebook.generateWithVariable('nhanes_age_prediction_subset_X');\n",
              "      }\n",
              "      })();\n",
              "    </script>\n",
              "  </div>\n",
              "\n",
              "    </div>\n",
              "  </div>\n"
            ]
          },
          "metadata": {},
          "execution_count": 11
        }
      ]
    },
    {
      "cell_type": "markdown",
      "source": [
        "Preprocessing: standardizing features"
      ],
      "metadata": {
        "id": "nqyHv01eehPl"
      }
    },
    {
      "cell_type": "code",
      "source": [
        "from sklearn import preprocessing\n",
        "# standardize features option 1\n",
        "nhanes_age_prediction_subset_X_scaled = preprocessing.scale(nhanes_age_prediction_subset_X)\n",
        "print(nhanes_age_prediction_subset_X_scaled)"
      ],
      "metadata": {
        "colab": {
          "base_uri": "https://localhost:8080/"
        },
        "id": "sO5R-ODujA4Y",
        "outputId": "b1dfbf86-d286-465d-9ac4-4de6487d4d91"
      },
      "execution_count": 12,
      "outputs": [
        {
          "output_type": "stream",
          "name": "stdout",
          "text": [
            "[[ 0.58408464  0.74432296  0.31648741]\n",
            " [-0.59002415 -0.74342728 -0.82176167]\n",
            " [-0.59002415 -0.99847018 -0.58608442]\n",
            " ...\n",
            " [ 0.19271504  0.19173001  0.98544031]\n",
            " [-0.53411421 -0.14832719 -0.70443762]\n",
            " [ 0.47226475 -0.14832719 -0.83102409]]\n"
          ]
        }
      ]
    },
    {
      "cell_type": "markdown",
      "source": [
        "Preprocessing: integer encoding"
      ],
      "metadata": {
        "id": "XHUUh4P-etKZ"
      }
    },
    {
      "cell_type": "code",
      "source": [
        "# convert class values into ints\n",
        "nhanes_age_prediction_subset_y_encoded = nhanes_age_prediction_subset_y['age_group'].apply(lambda x: 0 if x == \"Adult\" else 1)\n",
        "print(nhanes_age_prediction_subset_y_encoded.head(10))"
      ],
      "metadata": {
        "colab": {
          "base_uri": "https://localhost:8080/"
        },
        "id": "pxhWKTHaGa_0",
        "outputId": "ad929c16-ee22-4fa0-f4bf-f50ce9f8744f"
      },
      "execution_count": 13,
      "outputs": [
        {
          "output_type": "stream",
          "name": "stdout",
          "text": [
            "0    0\n",
            "1    0\n",
            "2    0\n",
            "3    0\n",
            "4    0\n",
            "5    0\n",
            "6    0\n",
            "7    0\n",
            "8    1\n",
            "9    0\n",
            "Name: age_group, dtype: int64\n"
          ]
        }
      ]
    },
    {
      "cell_type": "markdown",
      "source": [
        "### Dataset 2: Breast cancer Wisconsin dataset"
      ],
      "metadata": {
        "id": "A2tNHvpuxBr6"
      }
    },
    {
      "cell_type": "markdown",
      "source": [
        "Loading dataset"
      ],
      "metadata": {
        "id": "11xy9RFHe_Sz"
      }
    },
    {
      "cell_type": "code",
      "source": [
        "# fetch dataset 2\n",
        "breast_cancer_wisconsin_original = fetch_ucirepo(id=15)\n",
        "\n",
        "# data (as pandas dataframes)\n",
        "breast_cancer_wisconsin_original_X = breast_cancer_wisconsin_original.data.features\n",
        "breast_cancer_wisconsin_original_y = breast_cancer_wisconsin_original.data.targets\n",
        "\n",
        "# metadata\n",
        "print(breast_cancer_wisconsin_original.metadata)\n",
        "\n",
        "# variable information\n",
        "print(breast_cancer_wisconsin_original.variables)"
      ],
      "metadata": {
        "colab": {
          "base_uri": "https://localhost:8080/"
        },
        "id": "xDdlC6-3gm7-",
        "outputId": "17b0e5a3-3906-43a3-c9d4-278f3ef1c708"
      },
      "execution_count": 14,
      "outputs": [
        {
          "output_type": "stream",
          "name": "stdout",
          "text": [
            "{'uci_id': 15, 'name': 'Breast Cancer Wisconsin (Original)', 'repository_url': 'https://archive.ics.uci.edu/dataset/15/breast+cancer+wisconsin+original', 'data_url': 'https://archive.ics.uci.edu/static/public/15/data.csv', 'abstract': 'Original Wisconsin Breast Cancer Database', 'area': 'Health and Medicine', 'tasks': ['Classification'], 'characteristics': ['Multivariate'], 'num_instances': 699, 'num_features': 9, 'feature_types': ['Integer'], 'demographics': [], 'target_col': ['Class'], 'index_col': ['Sample_code_number'], 'has_missing_values': 'yes', 'missing_values_symbol': 'NaN', 'year_of_dataset_creation': 1990, 'last_updated': 'Fri Nov 03 2023', 'dataset_doi': '10.24432/C5HP4Z', 'creators': ['WIlliam Wolberg'], 'intro_paper': None, 'additional_info': {'summary': \"Samples arrive periodically as Dr. Wolberg reports his clinical cases. The database therefore reflects this chronological grouping of the data. This grouping information appears immediately below, having been removed from the data itself:\\r\\n\\r\\nGroup 1: 367 instances (January 1989)\\r\\nGroup 2:  70 instances (October 1989)\\r\\nGroup 3:  31 instances (February 1990)\\r\\nGroup 4:  17 instances (April 1990)\\r\\nGroup 5:  48 instances (August 1990)\\r\\nGroup 6:  49 instances (Updated January 1991)\\r\\nGroup 7:  31 instances (June 1991)\\r\\nGroup 8:  86 instances (November 1991)\\r\\n-----------------------------------------\\r\\nTotal:   699 points (as of the donated datbase on 15 July 1992)\\r\\n\\r\\nNote that the results summarized above in Past Usage refer to a dataset of size 369, while Group 1 has only 367 instances.  This is because it originally contained 369 instances; 2 were removed.  The following statements summarizes changes to the original Group 1's set of data:\\r\\n\\r\\n#####  Group 1 : 367 points: 200B 167M (January 1989)\\r\\n\\r\\n#####  Revised Jan 10, 1991: Replaced zero bare nuclei in 1080185 & 1187805\\r\\n\\r\\n#####  Revised Nov 22,1991: Removed 765878,4,5,9,7,10,10,10,3,8,1 no record\\r\\n#####                  : Removed 484201,2,7,8,8,4,3,10,3,4,1 zero epithelial\\r\\n#####                  : Changed 0 to 1 in field 6 of sample 1219406\\r\\n#####                  : Changed 0 to 1 in field 8 of following sample:\\r\\n#####                  : 1182404,2,3,1,1,1,2,0,1,1,1\", 'purpose': None, 'funded_by': None, 'instances_represent': None, 'recommended_data_splits': None, 'sensitive_data': None, 'preprocessing_description': None, 'variable_info': '1. Sample code number:            id number\\r\\n2. Clump Thickness:               1 - 10\\r\\n3. Uniformity of Cell Size:       1 - 10\\r\\n4. Uniformity of Cell Shape:      1 - 10\\r\\n5. Marginal Adhesion:             1 - 10\\r\\n6. Single Epithelial Cell Size:   1 - 10\\r\\n7. Bare Nuclei:                   1 - 10\\r\\n8. Bland Chromatin:               1 - 10\\r\\n9. Normal Nucleoli:               1 - 10\\r\\n10. Mitoses:                       1 - 10\\r\\n11. Class:                        (2 for benign, 4 for malignant)', 'citation': None}}\n",
            "                           name     role         type demographic  \\\n",
            "0            Sample_code_number       ID  Categorical        None   \n",
            "1               Clump_thickness  Feature      Integer        None   \n",
            "2       Uniformity_of_cell_size  Feature      Integer        None   \n",
            "3      Uniformity_of_cell_shape  Feature      Integer        None   \n",
            "4             Marginal_adhesion  Feature      Integer        None   \n",
            "5   Single_epithelial_cell_size  Feature      Integer        None   \n",
            "6                   Bare_nuclei  Feature      Integer        None   \n",
            "7               Bland_chromatin  Feature      Integer        None   \n",
            "8               Normal_nucleoli  Feature      Integer        None   \n",
            "9                       Mitoses  Feature      Integer        None   \n",
            "10                        Class   Target       Binary        None   \n",
            "\n",
            "                  description units missing_values  \n",
            "0                        None  None             no  \n",
            "1                        None  None             no  \n",
            "2                        None  None             no  \n",
            "3                        None  None             no  \n",
            "4                        None  None             no  \n",
            "5                        None  None             no  \n",
            "6                        None  None            yes  \n",
            "7                        None  None             no  \n",
            "8                        None  None             no  \n",
            "9                        None  None             no  \n",
            "10  2 = benign, 4 = malignant  None             no  \n"
          ]
        }
      ]
    },
    {
      "cell_type": "markdown",
      "source": [
        "Analyzing"
      ],
      "metadata": {
        "id": "3U6Mew7AfJX2"
      }
    },
    {
      "cell_type": "code",
      "source": [
        "breast_cancer_wisconsin_original_X.isnull().sum() # has null values\n",
        "# breast_cancer_wisconsin_original_y.isnull().sum() no null values"
      ],
      "metadata": {
        "colab": {
          "base_uri": "https://localhost:8080/"
        },
        "id": "mIJEY2cBkvYP",
        "outputId": "b7075165-aa9c-4c0a-a248-953fed6d54c8"
      },
      "execution_count": 15,
      "outputs": [
        {
          "output_type": "execute_result",
          "data": {
            "text/plain": [
              "Clump_thickness                 0\n",
              "Uniformity_of_cell_size         0\n",
              "Uniformity_of_cell_shape        0\n",
              "Marginal_adhesion               0\n",
              "Single_epithelial_cell_size     0\n",
              "Bare_nuclei                    16\n",
              "Bland_chromatin                 0\n",
              "Normal_nucleoli                 0\n",
              "Mitoses                         0\n",
              "dtype: int64"
            ]
          },
          "metadata": {},
          "execution_count": 15
        }
      ]
    },
    {
      "cell_type": "markdown",
      "source": [
        "Preprocessing: removing row with null values"
      ],
      "metadata": {
        "id": "FGy8tNiefL3l"
      }
    },
    {
      "cell_type": "code",
      "source": [
        "# removing rows with null values\n",
        "breast_cancer_wisconsin_original_X.dropna()"
      ],
      "metadata": {
        "colab": {
          "base_uri": "https://localhost:8080/",
          "height": 0
        },
        "id": "F-if2asolv4b",
        "outputId": "ec5952de-8142-4a44-d689-c6fc9357a33b"
      },
      "execution_count": 16,
      "outputs": [
        {
          "output_type": "execute_result",
          "data": {
            "text/plain": [
              "     Clump_thickness  Uniformity_of_cell_size  Uniformity_of_cell_shape  \\\n",
              "0                  5                        1                         1   \n",
              "1                  5                        4                         4   \n",
              "2                  3                        1                         1   \n",
              "3                  6                        8                         8   \n",
              "4                  4                        1                         1   \n",
              "..               ...                      ...                       ...   \n",
              "694                3                        1                         1   \n",
              "695                2                        1                         1   \n",
              "696                5                       10                        10   \n",
              "697                4                        8                         6   \n",
              "698                4                        8                         8   \n",
              "\n",
              "     Marginal_adhesion  Single_epithelial_cell_size  Bare_nuclei  \\\n",
              "0                    1                            2          1.0   \n",
              "1                    5                            7         10.0   \n",
              "2                    1                            2          2.0   \n",
              "3                    1                            3          4.0   \n",
              "4                    3                            2          1.0   \n",
              "..                 ...                          ...          ...   \n",
              "694                  1                            3          2.0   \n",
              "695                  1                            2          1.0   \n",
              "696                  3                            7          3.0   \n",
              "697                  4                            3          4.0   \n",
              "698                  5                            4          5.0   \n",
              "\n",
              "     Bland_chromatin  Normal_nucleoli  Mitoses  \n",
              "0                  3                1        1  \n",
              "1                  3                2        1  \n",
              "2                  3                1        1  \n",
              "3                  3                7        1  \n",
              "4                  3                1        1  \n",
              "..               ...              ...      ...  \n",
              "694                1                1        1  \n",
              "695                1                1        1  \n",
              "696                8               10        2  \n",
              "697               10                6        1  \n",
              "698               10                4        1  \n",
              "\n",
              "[683 rows x 9 columns]"
            ],
            "text/html": [
              "\n",
              "  <div id=\"df-bd58bab0-0d01-4345-8924-d73a7f085540\" class=\"colab-df-container\">\n",
              "    <div>\n",
              "<style scoped>\n",
              "    .dataframe tbody tr th:only-of-type {\n",
              "        vertical-align: middle;\n",
              "    }\n",
              "\n",
              "    .dataframe tbody tr th {\n",
              "        vertical-align: top;\n",
              "    }\n",
              "\n",
              "    .dataframe thead th {\n",
              "        text-align: right;\n",
              "    }\n",
              "</style>\n",
              "<table border=\"1\" class=\"dataframe\">\n",
              "  <thead>\n",
              "    <tr style=\"text-align: right;\">\n",
              "      <th></th>\n",
              "      <th>Clump_thickness</th>\n",
              "      <th>Uniformity_of_cell_size</th>\n",
              "      <th>Uniformity_of_cell_shape</th>\n",
              "      <th>Marginal_adhesion</th>\n",
              "      <th>Single_epithelial_cell_size</th>\n",
              "      <th>Bare_nuclei</th>\n",
              "      <th>Bland_chromatin</th>\n",
              "      <th>Normal_nucleoli</th>\n",
              "      <th>Mitoses</th>\n",
              "    </tr>\n",
              "  </thead>\n",
              "  <tbody>\n",
              "    <tr>\n",
              "      <th>0</th>\n",
              "      <td>5</td>\n",
              "      <td>1</td>\n",
              "      <td>1</td>\n",
              "      <td>1</td>\n",
              "      <td>2</td>\n",
              "      <td>1.0</td>\n",
              "      <td>3</td>\n",
              "      <td>1</td>\n",
              "      <td>1</td>\n",
              "    </tr>\n",
              "    <tr>\n",
              "      <th>1</th>\n",
              "      <td>5</td>\n",
              "      <td>4</td>\n",
              "      <td>4</td>\n",
              "      <td>5</td>\n",
              "      <td>7</td>\n",
              "      <td>10.0</td>\n",
              "      <td>3</td>\n",
              "      <td>2</td>\n",
              "      <td>1</td>\n",
              "    </tr>\n",
              "    <tr>\n",
              "      <th>2</th>\n",
              "      <td>3</td>\n",
              "      <td>1</td>\n",
              "      <td>1</td>\n",
              "      <td>1</td>\n",
              "      <td>2</td>\n",
              "      <td>2.0</td>\n",
              "      <td>3</td>\n",
              "      <td>1</td>\n",
              "      <td>1</td>\n",
              "    </tr>\n",
              "    <tr>\n",
              "      <th>3</th>\n",
              "      <td>6</td>\n",
              "      <td>8</td>\n",
              "      <td>8</td>\n",
              "      <td>1</td>\n",
              "      <td>3</td>\n",
              "      <td>4.0</td>\n",
              "      <td>3</td>\n",
              "      <td>7</td>\n",
              "      <td>1</td>\n",
              "    </tr>\n",
              "    <tr>\n",
              "      <th>4</th>\n",
              "      <td>4</td>\n",
              "      <td>1</td>\n",
              "      <td>1</td>\n",
              "      <td>3</td>\n",
              "      <td>2</td>\n",
              "      <td>1.0</td>\n",
              "      <td>3</td>\n",
              "      <td>1</td>\n",
              "      <td>1</td>\n",
              "    </tr>\n",
              "    <tr>\n",
              "      <th>...</th>\n",
              "      <td>...</td>\n",
              "      <td>...</td>\n",
              "      <td>...</td>\n",
              "      <td>...</td>\n",
              "      <td>...</td>\n",
              "      <td>...</td>\n",
              "      <td>...</td>\n",
              "      <td>...</td>\n",
              "      <td>...</td>\n",
              "    </tr>\n",
              "    <tr>\n",
              "      <th>694</th>\n",
              "      <td>3</td>\n",
              "      <td>1</td>\n",
              "      <td>1</td>\n",
              "      <td>1</td>\n",
              "      <td>3</td>\n",
              "      <td>2.0</td>\n",
              "      <td>1</td>\n",
              "      <td>1</td>\n",
              "      <td>1</td>\n",
              "    </tr>\n",
              "    <tr>\n",
              "      <th>695</th>\n",
              "      <td>2</td>\n",
              "      <td>1</td>\n",
              "      <td>1</td>\n",
              "      <td>1</td>\n",
              "      <td>2</td>\n",
              "      <td>1.0</td>\n",
              "      <td>1</td>\n",
              "      <td>1</td>\n",
              "      <td>1</td>\n",
              "    </tr>\n",
              "    <tr>\n",
              "      <th>696</th>\n",
              "      <td>5</td>\n",
              "      <td>10</td>\n",
              "      <td>10</td>\n",
              "      <td>3</td>\n",
              "      <td>7</td>\n",
              "      <td>3.0</td>\n",
              "      <td>8</td>\n",
              "      <td>10</td>\n",
              "      <td>2</td>\n",
              "    </tr>\n",
              "    <tr>\n",
              "      <th>697</th>\n",
              "      <td>4</td>\n",
              "      <td>8</td>\n",
              "      <td>6</td>\n",
              "      <td>4</td>\n",
              "      <td>3</td>\n",
              "      <td>4.0</td>\n",
              "      <td>10</td>\n",
              "      <td>6</td>\n",
              "      <td>1</td>\n",
              "    </tr>\n",
              "    <tr>\n",
              "      <th>698</th>\n",
              "      <td>4</td>\n",
              "      <td>8</td>\n",
              "      <td>8</td>\n",
              "      <td>5</td>\n",
              "      <td>4</td>\n",
              "      <td>5.0</td>\n",
              "      <td>10</td>\n",
              "      <td>4</td>\n",
              "      <td>1</td>\n",
              "    </tr>\n",
              "  </tbody>\n",
              "</table>\n",
              "<p>683 rows × 9 columns</p>\n",
              "</div>\n",
              "    <div class=\"colab-df-buttons\">\n",
              "\n",
              "  <div class=\"colab-df-container\">\n",
              "    <button class=\"colab-df-convert\" onclick=\"convertToInteractive('df-bd58bab0-0d01-4345-8924-d73a7f085540')\"\n",
              "            title=\"Convert this dataframe to an interactive table.\"\n",
              "            style=\"display:none;\">\n",
              "\n",
              "  <svg xmlns=\"http://www.w3.org/2000/svg\" height=\"24px\" viewBox=\"0 -960 960 960\">\n",
              "    <path d=\"M120-120v-720h720v720H120Zm60-500h600v-160H180v160Zm220 220h160v-160H400v160Zm0 220h160v-160H400v160ZM180-400h160v-160H180v160Zm440 0h160v-160H620v160ZM180-180h160v-160H180v160Zm440 0h160v-160H620v160Z\"/>\n",
              "  </svg>\n",
              "    </button>\n",
              "\n",
              "  <style>\n",
              "    .colab-df-container {\n",
              "      display:flex;\n",
              "      gap: 12px;\n",
              "    }\n",
              "\n",
              "    .colab-df-convert {\n",
              "      background-color: #E8F0FE;\n",
              "      border: none;\n",
              "      border-radius: 50%;\n",
              "      cursor: pointer;\n",
              "      display: none;\n",
              "      fill: #1967D2;\n",
              "      height: 32px;\n",
              "      padding: 0 0 0 0;\n",
              "      width: 32px;\n",
              "    }\n",
              "\n",
              "    .colab-df-convert:hover {\n",
              "      background-color: #E2EBFA;\n",
              "      box-shadow: 0px 1px 2px rgba(60, 64, 67, 0.3), 0px 1px 3px 1px rgba(60, 64, 67, 0.15);\n",
              "      fill: #174EA6;\n",
              "    }\n",
              "\n",
              "    .colab-df-buttons div {\n",
              "      margin-bottom: 4px;\n",
              "    }\n",
              "\n",
              "    [theme=dark] .colab-df-convert {\n",
              "      background-color: #3B4455;\n",
              "      fill: #D2E3FC;\n",
              "    }\n",
              "\n",
              "    [theme=dark] .colab-df-convert:hover {\n",
              "      background-color: #434B5C;\n",
              "      box-shadow: 0px 1px 3px 1px rgba(0, 0, 0, 0.15);\n",
              "      filter: drop-shadow(0px 1px 2px rgba(0, 0, 0, 0.3));\n",
              "      fill: #FFFFFF;\n",
              "    }\n",
              "  </style>\n",
              "\n",
              "    <script>\n",
              "      const buttonEl =\n",
              "        document.querySelector('#df-bd58bab0-0d01-4345-8924-d73a7f085540 button.colab-df-convert');\n",
              "      buttonEl.style.display =\n",
              "        google.colab.kernel.accessAllowed ? 'block' : 'none';\n",
              "\n",
              "      async function convertToInteractive(key) {\n",
              "        const element = document.querySelector('#df-bd58bab0-0d01-4345-8924-d73a7f085540');\n",
              "        const dataTable =\n",
              "          await google.colab.kernel.invokeFunction('convertToInteractive',\n",
              "                                                    [key], {});\n",
              "        if (!dataTable) return;\n",
              "\n",
              "        const docLinkHtml = 'Like what you see? Visit the ' +\n",
              "          '<a target=\"_blank\" href=https://colab.research.google.com/notebooks/data_table.ipynb>data table notebook</a>'\n",
              "          + ' to learn more about interactive tables.';\n",
              "        element.innerHTML = '';\n",
              "        dataTable['output_type'] = 'display_data';\n",
              "        await google.colab.output.renderOutput(dataTable, element);\n",
              "        const docLink = document.createElement('div');\n",
              "        docLink.innerHTML = docLinkHtml;\n",
              "        element.appendChild(docLink);\n",
              "      }\n",
              "    </script>\n",
              "  </div>\n",
              "\n",
              "\n",
              "<div id=\"df-fd76ad5a-1812-4589-aabb-ce900d4fcf83\">\n",
              "  <button class=\"colab-df-quickchart\" onclick=\"quickchart('df-fd76ad5a-1812-4589-aabb-ce900d4fcf83')\"\n",
              "            title=\"Suggest charts\"\n",
              "            style=\"display:none;\">\n",
              "\n",
              "<svg xmlns=\"http://www.w3.org/2000/svg\" height=\"24px\"viewBox=\"0 0 24 24\"\n",
              "     width=\"24px\">\n",
              "    <g>\n",
              "        <path d=\"M19 3H5c-1.1 0-2 .9-2 2v14c0 1.1.9 2 2 2h14c1.1 0 2-.9 2-2V5c0-1.1-.9-2-2-2zM9 17H7v-7h2v7zm4 0h-2V7h2v10zm4 0h-2v-4h2v4z\"/>\n",
              "    </g>\n",
              "</svg>\n",
              "  </button>\n",
              "\n",
              "<style>\n",
              "  .colab-df-quickchart {\n",
              "      --bg-color: #E8F0FE;\n",
              "      --fill-color: #1967D2;\n",
              "      --hover-bg-color: #E2EBFA;\n",
              "      --hover-fill-color: #174EA6;\n",
              "      --disabled-fill-color: #AAA;\n",
              "      --disabled-bg-color: #DDD;\n",
              "  }\n",
              "\n",
              "  [theme=dark] .colab-df-quickchart {\n",
              "      --bg-color: #3B4455;\n",
              "      --fill-color: #D2E3FC;\n",
              "      --hover-bg-color: #434B5C;\n",
              "      --hover-fill-color: #FFFFFF;\n",
              "      --disabled-bg-color: #3B4455;\n",
              "      --disabled-fill-color: #666;\n",
              "  }\n",
              "\n",
              "  .colab-df-quickchart {\n",
              "    background-color: var(--bg-color);\n",
              "    border: none;\n",
              "    border-radius: 50%;\n",
              "    cursor: pointer;\n",
              "    display: none;\n",
              "    fill: var(--fill-color);\n",
              "    height: 32px;\n",
              "    padding: 0;\n",
              "    width: 32px;\n",
              "  }\n",
              "\n",
              "  .colab-df-quickchart:hover {\n",
              "    background-color: var(--hover-bg-color);\n",
              "    box-shadow: 0 1px 2px rgba(60, 64, 67, 0.3), 0 1px 3px 1px rgba(60, 64, 67, 0.15);\n",
              "    fill: var(--button-hover-fill-color);\n",
              "  }\n",
              "\n",
              "  .colab-df-quickchart-complete:disabled,\n",
              "  .colab-df-quickchart-complete:disabled:hover {\n",
              "    background-color: var(--disabled-bg-color);\n",
              "    fill: var(--disabled-fill-color);\n",
              "    box-shadow: none;\n",
              "  }\n",
              "\n",
              "  .colab-df-spinner {\n",
              "    border: 2px solid var(--fill-color);\n",
              "    border-color: transparent;\n",
              "    border-bottom-color: var(--fill-color);\n",
              "    animation:\n",
              "      spin 1s steps(1) infinite;\n",
              "  }\n",
              "\n",
              "  @keyframes spin {\n",
              "    0% {\n",
              "      border-color: transparent;\n",
              "      border-bottom-color: var(--fill-color);\n",
              "      border-left-color: var(--fill-color);\n",
              "    }\n",
              "    20% {\n",
              "      border-color: transparent;\n",
              "      border-left-color: var(--fill-color);\n",
              "      border-top-color: var(--fill-color);\n",
              "    }\n",
              "    30% {\n",
              "      border-color: transparent;\n",
              "      border-left-color: var(--fill-color);\n",
              "      border-top-color: var(--fill-color);\n",
              "      border-right-color: var(--fill-color);\n",
              "    }\n",
              "    40% {\n",
              "      border-color: transparent;\n",
              "      border-right-color: var(--fill-color);\n",
              "      border-top-color: var(--fill-color);\n",
              "    }\n",
              "    60% {\n",
              "      border-color: transparent;\n",
              "      border-right-color: var(--fill-color);\n",
              "    }\n",
              "    80% {\n",
              "      border-color: transparent;\n",
              "      border-right-color: var(--fill-color);\n",
              "      border-bottom-color: var(--fill-color);\n",
              "    }\n",
              "    90% {\n",
              "      border-color: transparent;\n",
              "      border-bottom-color: var(--fill-color);\n",
              "    }\n",
              "  }\n",
              "</style>\n",
              "\n",
              "  <script>\n",
              "    async function quickchart(key) {\n",
              "      const quickchartButtonEl =\n",
              "        document.querySelector('#' + key + ' button');\n",
              "      quickchartButtonEl.disabled = true;  // To prevent multiple clicks.\n",
              "      quickchartButtonEl.classList.add('colab-df-spinner');\n",
              "      try {\n",
              "        const charts = await google.colab.kernel.invokeFunction(\n",
              "            'suggestCharts', [key], {});\n",
              "      } catch (error) {\n",
              "        console.error('Error during call to suggestCharts:', error);\n",
              "      }\n",
              "      quickchartButtonEl.classList.remove('colab-df-spinner');\n",
              "      quickchartButtonEl.classList.add('colab-df-quickchart-complete');\n",
              "    }\n",
              "    (() => {\n",
              "      let quickchartButtonEl =\n",
              "        document.querySelector('#df-fd76ad5a-1812-4589-aabb-ce900d4fcf83 button');\n",
              "      quickchartButtonEl.style.display =\n",
              "        google.colab.kernel.accessAllowed ? 'block' : 'none';\n",
              "    })();\n",
              "  </script>\n",
              "</div>\n",
              "\n",
              "    </div>\n",
              "  </div>\n"
            ]
          },
          "metadata": {},
          "execution_count": 16
        }
      ]
    },
    {
      "cell_type": "code",
      "source": [],
      "metadata": {
        "id": "D0B9ls1a0N9n"
      },
      "execution_count": 16,
      "outputs": []
    },
    {
      "cell_type": "code",
      "source": [
        "# analyzing dataset 2\n",
        "# get positive group (malignant)\n",
        "malignant_y = breast_cancer_wisconsin_original_y[breast_cancer_wisconsin_original_y.Class == 4]\n",
        "malignant_idx = list(malignant_y.index.values)\n",
        "malignant_X = breast_cancer_wisconsin_original_X.iloc[malignant_idx]\n",
        "print(malignant_X)\n",
        "\n",
        "# get negative group (benign)\n",
        "benign_y = breast_cancer_wisconsin_original_y[breast_cancer_wisconsin_original_y.Class == 2]\n",
        "benign_idx = list(benign_y.index.values)\n",
        "benign_X = breast_cancer_wisconsin_original_X.iloc[benign_idx]\n",
        "print(benign_X)"
      ],
      "metadata": {
        "colab": {
          "base_uri": "https://localhost:8080/"
        },
        "id": "-WuNzf1Mne5d",
        "outputId": "4bfd628d-f200-4ae2-b00f-62ee92236eab"
      },
      "execution_count": 17,
      "outputs": [
        {
          "output_type": "stream",
          "name": "stdout",
          "text": [
            "     Clump_thickness  Uniformity_of_cell_size  Uniformity_of_cell_shape  \\\n",
            "5                  8                       10                        10   \n",
            "12                 5                        3                         3   \n",
            "14                 8                        7                         5   \n",
            "15                 7                        4                         6   \n",
            "18                10                        7                         7   \n",
            "..               ...                      ...                       ...   \n",
            "681                5                       10                        10   \n",
            "691                5                       10                        10   \n",
            "696                5                       10                        10   \n",
            "697                4                        8                         6   \n",
            "698                4                        8                         8   \n",
            "\n",
            "     Marginal_adhesion  Single_epithelial_cell_size  Bare_nuclei  \\\n",
            "5                    8                            7         10.0   \n",
            "12                   3                            2          3.0   \n",
            "14                  10                            7          9.0   \n",
            "15                   4                            6          1.0   \n",
            "18                   6                            4         10.0   \n",
            "..                 ...                          ...          ...   \n",
            "681                 10                            4         10.0   \n",
            "691                  5                            4          5.0   \n",
            "696                  3                            7          3.0   \n",
            "697                  4                            3          4.0   \n",
            "698                  5                            4          5.0   \n",
            "\n",
            "     Bland_chromatin  Normal_nucleoli  Mitoses  \n",
            "5                  9                7        1  \n",
            "12                 4                4        1  \n",
            "14                 5                5        4  \n",
            "15                 4                3        1  \n",
            "18                 4                1        2  \n",
            "..               ...              ...      ...  \n",
            "681                5                6        3  \n",
            "691                4                4        1  \n",
            "696                8               10        2  \n",
            "697               10                6        1  \n",
            "698               10                4        1  \n",
            "\n",
            "[241 rows x 9 columns]\n",
            "     Clump_thickness  Uniformity_of_cell_size  Uniformity_of_cell_shape  \\\n",
            "0                  5                        1                         1   \n",
            "1                  5                        4                         4   \n",
            "2                  3                        1                         1   \n",
            "3                  6                        8                         8   \n",
            "4                  4                        1                         1   \n",
            "..               ...                      ...                       ...   \n",
            "690                1                        1                         1   \n",
            "692                3                        1                         1   \n",
            "693                3                        1                         1   \n",
            "694                3                        1                         1   \n",
            "695                2                        1                         1   \n",
            "\n",
            "     Marginal_adhesion  Single_epithelial_cell_size  Bare_nuclei  \\\n",
            "0                    1                            2          1.0   \n",
            "1                    5                            7         10.0   \n",
            "2                    1                            2          2.0   \n",
            "3                    1                            3          4.0   \n",
            "4                    3                            2          1.0   \n",
            "..                 ...                          ...          ...   \n",
            "690                  3                            2          1.0   \n",
            "692                  1                            2          1.0   \n",
            "693                  1                            2          1.0   \n",
            "694                  1                            3          2.0   \n",
            "695                  1                            2          1.0   \n",
            "\n",
            "     Bland_chromatin  Normal_nucleoli  Mitoses  \n",
            "0                  3                1        1  \n",
            "1                  3                2        1  \n",
            "2                  3                1        1  \n",
            "3                  3                7        1  \n",
            "4                  3                1        1  \n",
            "..               ...              ...      ...  \n",
            "690                1                1        1  \n",
            "692                1                1        1  \n",
            "693                2                1        2  \n",
            "694                1                1        1  \n",
            "695                1                1        1  \n",
            "\n",
            "[458 rows x 9 columns]\n"
          ]
        }
      ]
    },
    {
      "cell_type": "code",
      "source": [
        "# mean of each feature for positive group (malignant)\n",
        "malignant_means = malignant_X.describe().loc['mean']\n",
        "#print(malignant_means)\n",
        "\n",
        "# mean of each feature for negative group (benign)\n",
        "benign_means = benign_X.describe().loc['mean']\n",
        "#print(benign_means)\n",
        "\n",
        "# combine into 1 dataframe\n",
        "breast_cancer_df_means = pd.concat([malignant_means, benign_means], axis=1)\n",
        "breast_cancer_df_means.columns = ['malignant means', 'benign means']\n",
        "print(breast_cancer_df_means)"
      ],
      "metadata": {
        "colab": {
          "base_uri": "https://localhost:8080/"
        },
        "id": "-HA4YRI0diy2",
        "outputId": "a7141d44-724d-4502-de86-94ba728565aa"
      },
      "execution_count": 18,
      "outputs": [
        {
          "output_type": "stream",
          "name": "stdout",
          "text": [
            "                             malignant means  benign means\n",
            "Clump_thickness                     7.195021      2.956332\n",
            "Uniformity_of_cell_size             6.572614      1.325328\n",
            "Uniformity_of_cell_shape            6.560166      1.443231\n",
            "Marginal_adhesion                   5.547718      1.364629\n",
            "Single_epithelial_cell_size         5.298755      2.120087\n",
            "Bare_nuclei                         7.627615      1.346847\n",
            "Bland_chromatin                     5.979253      2.100437\n",
            "Normal_nucleoli                     5.863071      1.290393\n",
            "Mitoses                             2.589212      1.063319\n"
          ]
        }
      ]
    },
    {
      "cell_type": "code",
      "source": [
        "# squared difference of means for each feature\n",
        "breast_cancer_square_diff = np.square(breast_cancer_df_means['malignant means'] - breast_cancer_df_means['benign means'])\n",
        "breast_cancer_square_diff.sort_values(ascending=False)"
      ],
      "metadata": {
        "colab": {
          "base_uri": "https://localhost:8080/"
        },
        "id": "TQraAJq8eZE8",
        "outputId": "7496c0ee-347b-4bfb-fc43-a91fe7ea7d5c"
      },
      "execution_count": 19,
      "outputs": [
        {
          "output_type": "execute_result",
          "data": {
            "text/plain": [
              "Bare_nuclei                    39.448049\n",
              "Uniformity_of_cell_size        27.534017\n",
              "Uniformity_of_cell_shape       26.183019\n",
              "Normal_nucleoli                20.909380\n",
              "Clump_thickness                17.966483\n",
              "Marginal_adhesion              17.498234\n",
              "Bland_chromatin                15.045217\n",
              "Single_epithelial_cell_size    10.103929\n",
              "Mitoses                         2.328349\n",
              "dtype: float64"
            ]
          },
          "metadata": {},
          "execution_count": 19
        }
      ]
    },
    {
      "cell_type": "markdown",
      "source": [
        "Preprocessing: dropping feature"
      ],
      "metadata": {
        "id": "DkDb3JrzfYeN"
      }
    },
    {
      "cell_type": "code",
      "source": [
        "# dropping features that are not as correlated\n",
        "breast_cancer_wisconsin_original_X = breast_cancer_wisconsin_original_X.drop(['Mitoses'], axis=1)\n",
        "breast_cancer_wisconsin_original_X"
      ],
      "metadata": {
        "colab": {
          "base_uri": "https://localhost:8080/",
          "height": 0
        },
        "id": "QV57GgmlwfGi",
        "outputId": "0043be20-51d9-4373-90ff-72be60220407"
      },
      "execution_count": 20,
      "outputs": [
        {
          "output_type": "execute_result",
          "data": {
            "text/plain": [
              "     Clump_thickness  Uniformity_of_cell_size  Uniformity_of_cell_shape  \\\n",
              "0                  5                        1                         1   \n",
              "1                  5                        4                         4   \n",
              "2                  3                        1                         1   \n",
              "3                  6                        8                         8   \n",
              "4                  4                        1                         1   \n",
              "..               ...                      ...                       ...   \n",
              "694                3                        1                         1   \n",
              "695                2                        1                         1   \n",
              "696                5                       10                        10   \n",
              "697                4                        8                         6   \n",
              "698                4                        8                         8   \n",
              "\n",
              "     Marginal_adhesion  Single_epithelial_cell_size  Bare_nuclei  \\\n",
              "0                    1                            2          1.0   \n",
              "1                    5                            7         10.0   \n",
              "2                    1                            2          2.0   \n",
              "3                    1                            3          4.0   \n",
              "4                    3                            2          1.0   \n",
              "..                 ...                          ...          ...   \n",
              "694                  1                            3          2.0   \n",
              "695                  1                            2          1.0   \n",
              "696                  3                            7          3.0   \n",
              "697                  4                            3          4.0   \n",
              "698                  5                            4          5.0   \n",
              "\n",
              "     Bland_chromatin  Normal_nucleoli  \n",
              "0                  3                1  \n",
              "1                  3                2  \n",
              "2                  3                1  \n",
              "3                  3                7  \n",
              "4                  3                1  \n",
              "..               ...              ...  \n",
              "694                1                1  \n",
              "695                1                1  \n",
              "696                8               10  \n",
              "697               10                6  \n",
              "698               10                4  \n",
              "\n",
              "[699 rows x 8 columns]"
            ],
            "text/html": [
              "\n",
              "  <div id=\"df-a7efd55c-beb3-4321-963e-34c0b2e5e6aa\" class=\"colab-df-container\">\n",
              "    <div>\n",
              "<style scoped>\n",
              "    .dataframe tbody tr th:only-of-type {\n",
              "        vertical-align: middle;\n",
              "    }\n",
              "\n",
              "    .dataframe tbody tr th {\n",
              "        vertical-align: top;\n",
              "    }\n",
              "\n",
              "    .dataframe thead th {\n",
              "        text-align: right;\n",
              "    }\n",
              "</style>\n",
              "<table border=\"1\" class=\"dataframe\">\n",
              "  <thead>\n",
              "    <tr style=\"text-align: right;\">\n",
              "      <th></th>\n",
              "      <th>Clump_thickness</th>\n",
              "      <th>Uniformity_of_cell_size</th>\n",
              "      <th>Uniformity_of_cell_shape</th>\n",
              "      <th>Marginal_adhesion</th>\n",
              "      <th>Single_epithelial_cell_size</th>\n",
              "      <th>Bare_nuclei</th>\n",
              "      <th>Bland_chromatin</th>\n",
              "      <th>Normal_nucleoli</th>\n",
              "    </tr>\n",
              "  </thead>\n",
              "  <tbody>\n",
              "    <tr>\n",
              "      <th>0</th>\n",
              "      <td>5</td>\n",
              "      <td>1</td>\n",
              "      <td>1</td>\n",
              "      <td>1</td>\n",
              "      <td>2</td>\n",
              "      <td>1.0</td>\n",
              "      <td>3</td>\n",
              "      <td>1</td>\n",
              "    </tr>\n",
              "    <tr>\n",
              "      <th>1</th>\n",
              "      <td>5</td>\n",
              "      <td>4</td>\n",
              "      <td>4</td>\n",
              "      <td>5</td>\n",
              "      <td>7</td>\n",
              "      <td>10.0</td>\n",
              "      <td>3</td>\n",
              "      <td>2</td>\n",
              "    </tr>\n",
              "    <tr>\n",
              "      <th>2</th>\n",
              "      <td>3</td>\n",
              "      <td>1</td>\n",
              "      <td>1</td>\n",
              "      <td>1</td>\n",
              "      <td>2</td>\n",
              "      <td>2.0</td>\n",
              "      <td>3</td>\n",
              "      <td>1</td>\n",
              "    </tr>\n",
              "    <tr>\n",
              "      <th>3</th>\n",
              "      <td>6</td>\n",
              "      <td>8</td>\n",
              "      <td>8</td>\n",
              "      <td>1</td>\n",
              "      <td>3</td>\n",
              "      <td>4.0</td>\n",
              "      <td>3</td>\n",
              "      <td>7</td>\n",
              "    </tr>\n",
              "    <tr>\n",
              "      <th>4</th>\n",
              "      <td>4</td>\n",
              "      <td>1</td>\n",
              "      <td>1</td>\n",
              "      <td>3</td>\n",
              "      <td>2</td>\n",
              "      <td>1.0</td>\n",
              "      <td>3</td>\n",
              "      <td>1</td>\n",
              "    </tr>\n",
              "    <tr>\n",
              "      <th>...</th>\n",
              "      <td>...</td>\n",
              "      <td>...</td>\n",
              "      <td>...</td>\n",
              "      <td>...</td>\n",
              "      <td>...</td>\n",
              "      <td>...</td>\n",
              "      <td>...</td>\n",
              "      <td>...</td>\n",
              "    </tr>\n",
              "    <tr>\n",
              "      <th>694</th>\n",
              "      <td>3</td>\n",
              "      <td>1</td>\n",
              "      <td>1</td>\n",
              "      <td>1</td>\n",
              "      <td>3</td>\n",
              "      <td>2.0</td>\n",
              "      <td>1</td>\n",
              "      <td>1</td>\n",
              "    </tr>\n",
              "    <tr>\n",
              "      <th>695</th>\n",
              "      <td>2</td>\n",
              "      <td>1</td>\n",
              "      <td>1</td>\n",
              "      <td>1</td>\n",
              "      <td>2</td>\n",
              "      <td>1.0</td>\n",
              "      <td>1</td>\n",
              "      <td>1</td>\n",
              "    </tr>\n",
              "    <tr>\n",
              "      <th>696</th>\n",
              "      <td>5</td>\n",
              "      <td>10</td>\n",
              "      <td>10</td>\n",
              "      <td>3</td>\n",
              "      <td>7</td>\n",
              "      <td>3.0</td>\n",
              "      <td>8</td>\n",
              "      <td>10</td>\n",
              "    </tr>\n",
              "    <tr>\n",
              "      <th>697</th>\n",
              "      <td>4</td>\n",
              "      <td>8</td>\n",
              "      <td>6</td>\n",
              "      <td>4</td>\n",
              "      <td>3</td>\n",
              "      <td>4.0</td>\n",
              "      <td>10</td>\n",
              "      <td>6</td>\n",
              "    </tr>\n",
              "    <tr>\n",
              "      <th>698</th>\n",
              "      <td>4</td>\n",
              "      <td>8</td>\n",
              "      <td>8</td>\n",
              "      <td>5</td>\n",
              "      <td>4</td>\n",
              "      <td>5.0</td>\n",
              "      <td>10</td>\n",
              "      <td>4</td>\n",
              "    </tr>\n",
              "  </tbody>\n",
              "</table>\n",
              "<p>699 rows × 8 columns</p>\n",
              "</div>\n",
              "    <div class=\"colab-df-buttons\">\n",
              "\n",
              "  <div class=\"colab-df-container\">\n",
              "    <button class=\"colab-df-convert\" onclick=\"convertToInteractive('df-a7efd55c-beb3-4321-963e-34c0b2e5e6aa')\"\n",
              "            title=\"Convert this dataframe to an interactive table.\"\n",
              "            style=\"display:none;\">\n",
              "\n",
              "  <svg xmlns=\"http://www.w3.org/2000/svg\" height=\"24px\" viewBox=\"0 -960 960 960\">\n",
              "    <path d=\"M120-120v-720h720v720H120Zm60-500h600v-160H180v160Zm220 220h160v-160H400v160Zm0 220h160v-160H400v160ZM180-400h160v-160H180v160Zm440 0h160v-160H620v160ZM180-180h160v-160H180v160Zm440 0h160v-160H620v160Z\"/>\n",
              "  </svg>\n",
              "    </button>\n",
              "\n",
              "  <style>\n",
              "    .colab-df-container {\n",
              "      display:flex;\n",
              "      gap: 12px;\n",
              "    }\n",
              "\n",
              "    .colab-df-convert {\n",
              "      background-color: #E8F0FE;\n",
              "      border: none;\n",
              "      border-radius: 50%;\n",
              "      cursor: pointer;\n",
              "      display: none;\n",
              "      fill: #1967D2;\n",
              "      height: 32px;\n",
              "      padding: 0 0 0 0;\n",
              "      width: 32px;\n",
              "    }\n",
              "\n",
              "    .colab-df-convert:hover {\n",
              "      background-color: #E2EBFA;\n",
              "      box-shadow: 0px 1px 2px rgba(60, 64, 67, 0.3), 0px 1px 3px 1px rgba(60, 64, 67, 0.15);\n",
              "      fill: #174EA6;\n",
              "    }\n",
              "\n",
              "    .colab-df-buttons div {\n",
              "      margin-bottom: 4px;\n",
              "    }\n",
              "\n",
              "    [theme=dark] .colab-df-convert {\n",
              "      background-color: #3B4455;\n",
              "      fill: #D2E3FC;\n",
              "    }\n",
              "\n",
              "    [theme=dark] .colab-df-convert:hover {\n",
              "      background-color: #434B5C;\n",
              "      box-shadow: 0px 1px 3px 1px rgba(0, 0, 0, 0.15);\n",
              "      filter: drop-shadow(0px 1px 2px rgba(0, 0, 0, 0.3));\n",
              "      fill: #FFFFFF;\n",
              "    }\n",
              "  </style>\n",
              "\n",
              "    <script>\n",
              "      const buttonEl =\n",
              "        document.querySelector('#df-a7efd55c-beb3-4321-963e-34c0b2e5e6aa button.colab-df-convert');\n",
              "      buttonEl.style.display =\n",
              "        google.colab.kernel.accessAllowed ? 'block' : 'none';\n",
              "\n",
              "      async function convertToInteractive(key) {\n",
              "        const element = document.querySelector('#df-a7efd55c-beb3-4321-963e-34c0b2e5e6aa');\n",
              "        const dataTable =\n",
              "          await google.colab.kernel.invokeFunction('convertToInteractive',\n",
              "                                                    [key], {});\n",
              "        if (!dataTable) return;\n",
              "\n",
              "        const docLinkHtml = 'Like what you see? Visit the ' +\n",
              "          '<a target=\"_blank\" href=https://colab.research.google.com/notebooks/data_table.ipynb>data table notebook</a>'\n",
              "          + ' to learn more about interactive tables.';\n",
              "        element.innerHTML = '';\n",
              "        dataTable['output_type'] = 'display_data';\n",
              "        await google.colab.output.renderOutput(dataTable, element);\n",
              "        const docLink = document.createElement('div');\n",
              "        docLink.innerHTML = docLinkHtml;\n",
              "        element.appendChild(docLink);\n",
              "      }\n",
              "    </script>\n",
              "  </div>\n",
              "\n",
              "\n",
              "<div id=\"df-fcdef075-1c1d-4563-b331-19b6b852ca1f\">\n",
              "  <button class=\"colab-df-quickchart\" onclick=\"quickchart('df-fcdef075-1c1d-4563-b331-19b6b852ca1f')\"\n",
              "            title=\"Suggest charts\"\n",
              "            style=\"display:none;\">\n",
              "\n",
              "<svg xmlns=\"http://www.w3.org/2000/svg\" height=\"24px\"viewBox=\"0 0 24 24\"\n",
              "     width=\"24px\">\n",
              "    <g>\n",
              "        <path d=\"M19 3H5c-1.1 0-2 .9-2 2v14c0 1.1.9 2 2 2h14c1.1 0 2-.9 2-2V5c0-1.1-.9-2-2-2zM9 17H7v-7h2v7zm4 0h-2V7h2v10zm4 0h-2v-4h2v4z\"/>\n",
              "    </g>\n",
              "</svg>\n",
              "  </button>\n",
              "\n",
              "<style>\n",
              "  .colab-df-quickchart {\n",
              "      --bg-color: #E8F0FE;\n",
              "      --fill-color: #1967D2;\n",
              "      --hover-bg-color: #E2EBFA;\n",
              "      --hover-fill-color: #174EA6;\n",
              "      --disabled-fill-color: #AAA;\n",
              "      --disabled-bg-color: #DDD;\n",
              "  }\n",
              "\n",
              "  [theme=dark] .colab-df-quickchart {\n",
              "      --bg-color: #3B4455;\n",
              "      --fill-color: #D2E3FC;\n",
              "      --hover-bg-color: #434B5C;\n",
              "      --hover-fill-color: #FFFFFF;\n",
              "      --disabled-bg-color: #3B4455;\n",
              "      --disabled-fill-color: #666;\n",
              "  }\n",
              "\n",
              "  .colab-df-quickchart {\n",
              "    background-color: var(--bg-color);\n",
              "    border: none;\n",
              "    border-radius: 50%;\n",
              "    cursor: pointer;\n",
              "    display: none;\n",
              "    fill: var(--fill-color);\n",
              "    height: 32px;\n",
              "    padding: 0;\n",
              "    width: 32px;\n",
              "  }\n",
              "\n",
              "  .colab-df-quickchart:hover {\n",
              "    background-color: var(--hover-bg-color);\n",
              "    box-shadow: 0 1px 2px rgba(60, 64, 67, 0.3), 0 1px 3px 1px rgba(60, 64, 67, 0.15);\n",
              "    fill: var(--button-hover-fill-color);\n",
              "  }\n",
              "\n",
              "  .colab-df-quickchart-complete:disabled,\n",
              "  .colab-df-quickchart-complete:disabled:hover {\n",
              "    background-color: var(--disabled-bg-color);\n",
              "    fill: var(--disabled-fill-color);\n",
              "    box-shadow: none;\n",
              "  }\n",
              "\n",
              "  .colab-df-spinner {\n",
              "    border: 2px solid var(--fill-color);\n",
              "    border-color: transparent;\n",
              "    border-bottom-color: var(--fill-color);\n",
              "    animation:\n",
              "      spin 1s steps(1) infinite;\n",
              "  }\n",
              "\n",
              "  @keyframes spin {\n",
              "    0% {\n",
              "      border-color: transparent;\n",
              "      border-bottom-color: var(--fill-color);\n",
              "      border-left-color: var(--fill-color);\n",
              "    }\n",
              "    20% {\n",
              "      border-color: transparent;\n",
              "      border-left-color: var(--fill-color);\n",
              "      border-top-color: var(--fill-color);\n",
              "    }\n",
              "    30% {\n",
              "      border-color: transparent;\n",
              "      border-left-color: var(--fill-color);\n",
              "      border-top-color: var(--fill-color);\n",
              "      border-right-color: var(--fill-color);\n",
              "    }\n",
              "    40% {\n",
              "      border-color: transparent;\n",
              "      border-right-color: var(--fill-color);\n",
              "      border-top-color: var(--fill-color);\n",
              "    }\n",
              "    60% {\n",
              "      border-color: transparent;\n",
              "      border-right-color: var(--fill-color);\n",
              "    }\n",
              "    80% {\n",
              "      border-color: transparent;\n",
              "      border-right-color: var(--fill-color);\n",
              "      border-bottom-color: var(--fill-color);\n",
              "    }\n",
              "    90% {\n",
              "      border-color: transparent;\n",
              "      border-bottom-color: var(--fill-color);\n",
              "    }\n",
              "  }\n",
              "</style>\n",
              "\n",
              "  <script>\n",
              "    async function quickchart(key) {\n",
              "      const quickchartButtonEl =\n",
              "        document.querySelector('#' + key + ' button');\n",
              "      quickchartButtonEl.disabled = true;  // To prevent multiple clicks.\n",
              "      quickchartButtonEl.classList.add('colab-df-spinner');\n",
              "      try {\n",
              "        const charts = await google.colab.kernel.invokeFunction(\n",
              "            'suggestCharts', [key], {});\n",
              "      } catch (error) {\n",
              "        console.error('Error during call to suggestCharts:', error);\n",
              "      }\n",
              "      quickchartButtonEl.classList.remove('colab-df-spinner');\n",
              "      quickchartButtonEl.classList.add('colab-df-quickchart-complete');\n",
              "    }\n",
              "    (() => {\n",
              "      let quickchartButtonEl =\n",
              "        document.querySelector('#df-fcdef075-1c1d-4563-b331-19b6b852ca1f button');\n",
              "      quickchartButtonEl.style.display =\n",
              "        google.colab.kernel.accessAllowed ? 'block' : 'none';\n",
              "    })();\n",
              "  </script>\n",
              "</div>\n",
              "\n",
              "  <div id=\"id_b2d854e4-39bf-4386-829c-838707466a12\">\n",
              "    <style>\n",
              "      .colab-df-generate {\n",
              "        background-color: #E8F0FE;\n",
              "        border: none;\n",
              "        border-radius: 50%;\n",
              "        cursor: pointer;\n",
              "        display: none;\n",
              "        fill: #1967D2;\n",
              "        height: 32px;\n",
              "        padding: 0 0 0 0;\n",
              "        width: 32px;\n",
              "      }\n",
              "\n",
              "      .colab-df-generate:hover {\n",
              "        background-color: #E2EBFA;\n",
              "        box-shadow: 0px 1px 2px rgba(60, 64, 67, 0.3), 0px 1px 3px 1px rgba(60, 64, 67, 0.15);\n",
              "        fill: #174EA6;\n",
              "      }\n",
              "\n",
              "      [theme=dark] .colab-df-generate {\n",
              "        background-color: #3B4455;\n",
              "        fill: #D2E3FC;\n",
              "      }\n",
              "\n",
              "      [theme=dark] .colab-df-generate:hover {\n",
              "        background-color: #434B5C;\n",
              "        box-shadow: 0px 1px 3px 1px rgba(0, 0, 0, 0.15);\n",
              "        filter: drop-shadow(0px 1px 2px rgba(0, 0, 0, 0.3));\n",
              "        fill: #FFFFFF;\n",
              "      }\n",
              "    </style>\n",
              "    <button class=\"colab-df-generate\" onclick=\"generateWithVariable('breast_cancer_wisconsin_original_X')\"\n",
              "            title=\"Generate code using this dataframe.\"\n",
              "            style=\"display:none;\">\n",
              "\n",
              "  <svg xmlns=\"http://www.w3.org/2000/svg\" height=\"24px\"viewBox=\"0 0 24 24\"\n",
              "       width=\"24px\">\n",
              "    <path d=\"M7,19H8.4L18.45,9,17,7.55,7,17.6ZM5,21V16.75L18.45,3.32a2,2,0,0,1,2.83,0l1.4,1.43a1.91,1.91,0,0,1,.58,1.4,1.91,1.91,0,0,1-.58,1.4L9.25,21ZM18.45,9,17,7.55Zm-12,3A5.31,5.31,0,0,0,4.9,8.1,5.31,5.31,0,0,0,1,6.5,5.31,5.31,0,0,0,4.9,4.9,5.31,5.31,0,0,0,6.5,1,5.31,5.31,0,0,0,8.1,4.9,5.31,5.31,0,0,0,12,6.5,5.46,5.46,0,0,0,6.5,12Z\"/>\n",
              "  </svg>\n",
              "    </button>\n",
              "    <script>\n",
              "      (() => {\n",
              "      const buttonEl =\n",
              "        document.querySelector('#id_b2d854e4-39bf-4386-829c-838707466a12 button.colab-df-generate');\n",
              "      buttonEl.style.display =\n",
              "        google.colab.kernel.accessAllowed ? 'block' : 'none';\n",
              "\n",
              "      buttonEl.onclick = () => {\n",
              "        google.colab.notebook.generateWithVariable('breast_cancer_wisconsin_original_X');\n",
              "      }\n",
              "      })();\n",
              "    </script>\n",
              "  </div>\n",
              "\n",
              "    </div>\n",
              "  </div>\n"
            ]
          },
          "metadata": {},
          "execution_count": 20
        }
      ]
    },
    {
      "cell_type": "markdown",
      "source": [
        "Preprocessing: integer encoding {0,1}"
      ],
      "metadata": {
        "id": "3fkZAEEPfegc"
      }
    },
    {
      "cell_type": "code",
      "source": [
        "# convert class values into 0 or 1 (instead of 2 or 4)\n",
        "#print(breast_cancer_wisconsin_original_y.head(20))\n",
        "breast_cancer_wisconsin_original_y_encoded = breast_cancer_wisconsin_original_y[\"Class\"].apply(lambda x: 0 if x == 2 else 1)\n",
        "print(breast_cancer_wisconsin_original_y_encoded.head(20))"
      ],
      "metadata": {
        "colab": {
          "base_uri": "https://localhost:8080/"
        },
        "id": "U2hY469Hw2rM",
        "outputId": "b6ba6901-6bb1-4d80-8ad6-673926237a1e"
      },
      "execution_count": 21,
      "outputs": [
        {
          "output_type": "stream",
          "name": "stdout",
          "text": [
            "0     0\n",
            "1     0\n",
            "2     0\n",
            "3     0\n",
            "4     0\n",
            "5     1\n",
            "6     0\n",
            "7     0\n",
            "8     0\n",
            "9     0\n",
            "10    0\n",
            "11    0\n",
            "12    1\n",
            "13    0\n",
            "14    1\n",
            "15    1\n",
            "16    0\n",
            "17    0\n",
            "18    1\n",
            "19    0\n",
            "Name: Class, dtype: int64\n"
          ]
        }
      ]
    },
    {
      "cell_type": "code",
      "source": [
        "# convert X dataframe to numpy array\n",
        "breast_cancer_wisconsin_original_X = breast_cancer_wisconsin_original_X.to_numpy()\n",
        "breast_cancer_wisconsin_original_X"
      ],
      "metadata": {
        "colab": {
          "base_uri": "https://localhost:8080/"
        },
        "id": "lj4hKtES2wMY",
        "outputId": "11bc6de8-1cd9-4e7d-fced-bd68349ce718"
      },
      "execution_count": 22,
      "outputs": [
        {
          "output_type": "execute_result",
          "data": {
            "text/plain": [
              "array([[ 5.,  1.,  1., ...,  1.,  3.,  1.],\n",
              "       [ 5.,  4.,  4., ..., 10.,  3.,  2.],\n",
              "       [ 3.,  1.,  1., ...,  2.,  3.,  1.],\n",
              "       ...,\n",
              "       [ 5., 10., 10., ...,  3.,  8., 10.],\n",
              "       [ 4.,  8.,  6., ...,  4., 10.,  6.],\n",
              "       [ 4.,  8.,  8., ...,  5., 10.,  4.]])"
            ]
          },
          "metadata": {},
          "execution_count": 22
        }
      ]
    },
    {
      "cell_type": "markdown",
      "source": [
        "## Task 2: KNN and DT"
      ],
      "metadata": {
        "id": "HGhEWohqf3Sb"
      }
    },
    {
      "cell_type": "markdown",
      "source": [
        "KNN class"
      ],
      "metadata": {
        "id": "rDRG7R0igFR1"
      }
    },
    {
      "cell_type": "code",
      "source": [
        "# metric we will use to measure similarity (to experiment)\n",
        "euclidean = lambda x1, x2: np.sqrt(np.sum((x1 - x2)**2, axis=-1))\n",
        "manhattan = lambda x1, x2: np.sum(np.abs(x1 - x2), axis=-1)\n",
        "\n",
        "class KNN:\n",
        "\n",
        "    def __init__(self, K=1, dist_fn= euclidean):\n",
        "        self.dist_fn = dist_fn\n",
        "        self.K = K\n",
        "        return\n",
        "\n",
        "    def fit(self, x, y):\n",
        "        ''' Store the training data using this method as it is a lazy learner'''\n",
        "        self.x = x\n",
        "        self.y = y\n",
        "        self.C = self.C = np.max(y) + 1\n",
        "        return self\n",
        "\n",
        "    def predict(self, x_test):\n",
        "        ''' Makes a prediction using the stored training data and the test data given as argument'''\n",
        "        num_test = x_test.shape[0]\n",
        "        # calculate distance between the training & test samples and returns an array of shape [num_test, num_train]\n",
        "        # self.x is in shape (100, 2), x_test is in shape (50, 2)\n",
        "        # self.x[None, :, :] is in shape (1, 100, 2), and x_test[:,None,:] is in shape (50, 1, 2)\n",
        "        # result: (x_test.shape[0], self.x.shape[0])\n",
        "        distances = self.dist_fn(self.x[None,:,:], x_test[:,None,:])\n",
        "        #ith-row of knns stores the indices of k closest training samples to the ith-test sample\n",
        "        knns = np.zeros((num_test, self.K), dtype=int)\n",
        "        #ith-row of y_prob has the probability distribution over C classes\n",
        "        y_prob = np.zeros((num_test, self.C))\n",
        "        for i in range(num_test):\n",
        "            # print(i)\n",
        "            knns[i,:] = np.argsort(distances[i])[:self.K]\n",
        "            # print(knns[i,:])\n",
        "            #print(self.y[knns[i:]])\n",
        "            y_prob[i,:] = np.bincount(self.y[knns[i:]][0], minlength=self.C) #counts the number of instances of each class in the K-closest training samples\n",
        "        #y_prob /= np.sum(y_prob, axis=-1, keepdims=True)\n",
        "        #simply divide by K to get a probability distribution\n",
        "        y_prob /= self.K\n",
        "        return y_prob, knns"
      ],
      "metadata": {
        "id": "eroKWs7klb8-"
      },
      "execution_count": 23,
      "outputs": []
    },
    {
      "cell_type": "markdown",
      "source": [
        "Decision Tree class\n",
        "\n"
      ],
      "metadata": {
        "id": "MT9tTb7ctLWO"
      }
    },
    {
      "cell_type": "code",
      "source": [
        "bvalues=breast_cancer_wisconsin_original_X\n",
        "btargets=breast_cancer_wisconsin_original_y_encoded\n",
        "\n",
        "avalues=nhanes_age_prediction_subset_X_scaled\n",
        "atargets=nhanes_age_prediction_subset_y_encoded"
      ],
      "metadata": {
        "id": "OfJBN3BIM_iG"
      },
      "execution_count": 24,
      "outputs": []
    },
    {
      "cell_type": "code",
      "source": [
        "#computes misclassification cost by subtracting the maximum probability of any class\n",
        "def cost_misclassification(labels):\n",
        "    class_probs = np.bincount(labels) / len(labels)\n",
        "    return 1 - np.max(class_probs)\n",
        "\n",
        "#computes entropy of the labels by computing the class probabilities\n",
        "def cost_entropy(labels):\n",
        "    class_probs = np.bincount(labels) / len(labels)\n",
        "    class_probs = class_probs[class_probs > 0]              #this steps is remove 0 probabilities for removing numerical issues while computing log\n",
        "    return -np.sum(class_probs * np.log2(class_probs))       #expression for entropy -\\sigma p(x)log[p(x)]\n",
        "\n",
        "#computes the gini index cost\n",
        "def cost_gini_index(labels):\n",
        "    class_probs = np.bincount(labels) / len(labels)\n",
        "    return 1 - np.sum(np.square(class_probs))               #expression for gini index 1-\\sigma p(x)^2"
      ],
      "metadata": {
        "id": "vYJ82XdFt5IL"
      },
      "execution_count": 25,
      "outputs": []
    },
    {
      "cell_type": "code",
      "source": [
        "# representing a node in our decision tree\n",
        "class Node:\n",
        "    def __init__(self, data_indices, parent):\n",
        "        self.data_indices = data_indices                    #stores the data indices which are in the region defined by this node\n",
        "        self.left = None                                    #stores the left child of the node\n",
        "        self.right = None                                   #stores the right child of the node\n",
        "        self.split_feature = None                           #the feature for split at this node\n",
        "        self.split_value = None                             #the value of the feature for split at this node\n",
        "        if parent:\n",
        "            self.depth = parent.depth + 1                   #obtain the dept of the node by adding one to dept of the parent\n",
        "            self.num_classes = parent.num_classes           #copies the num classes from the parent\n",
        "            self.data = parent.data                         #copies the data from the parent\n",
        "            self.labels = parent.labels                     #copies the labels from the parent\n",
        "            class_prob = np.bincount(self.labels[data_indices], minlength=self.num_classes) #this is counting frequency of different labels in the region defined by this node\n",
        "            self.class_prob = class_prob / np.sum(class_prob)  #stores the class probability for the node\n",
        "            #note that we'll use the class probabilites of the leaf nodes for making predictions after the tree is built"
      ],
      "metadata": {
        "id": "YIyAO2gwvj3z"
      },
      "execution_count": 26,
      "outputs": []
    },
    {
      "cell_type": "code",
      "source": [
        "# for a node, considers all possible feature-value combinations for splitting the data in a way that minimizes the cost acc to cost_fn\n",
        "def greedy_test(node, cost_fn):\n",
        "    #initialize the best parameter values\n",
        "    best_cost = np.inf\n",
        "    best_feature, best_value = None, None\n",
        "    num_instances, num_features = node.data.shape\n",
        "    #sort the features to get the test value candidates by taking the average of consecutive sorted feature values\n",
        "    data_sorted = np.sort(node.data[node.data_indices],axis=0)\n",
        "    test_candidates = (data_sorted[1:] + data_sorted[:-1]) / 2.\n",
        "    for f in range(num_features):\n",
        "        #stores the data corresponding to the f-th feature\n",
        "        data_f = node.data[node.data_indices, f]\n",
        "        for test in test_candidates[:,f]:\n",
        "            #Split the indices using the test value of f-th feature\n",
        "            left_indices = node.data_indices[data_f <= test]\n",
        "            right_indices = node.data_indices[data_f > test]\n",
        "            #we can't have a split where a child has zero element\n",
        "            #if this is true over all the test features and their test values  then the function returns the best cost as infinity\n",
        "            if len(left_indices) == 0 or len(right_indices) == 0:\n",
        "                continue\n",
        "            #compute the left and right cost based on the current split\n",
        "            left_cost = cost_fn(node.labels[left_indices])\n",
        "            right_cost = cost_fn(node.labels[right_indices])\n",
        "            num_left, num_right = left_indices.shape[0], right_indices.shape[0]\n",
        "            #get the combined cost using the weighted sum of left and right cost\n",
        "            cost = (num_left * left_cost + num_right * right_cost)/num_instances\n",
        "            #update only when a lower cost is encountered\n",
        "            if cost < best_cost:\n",
        "                best_cost = cost\n",
        "                best_feature = f\n",
        "                best_value = test\n",
        "    return best_cost, best_feature, best_value"
      ],
      "metadata": {
        "id": "lmK4gQkDuXPy"
      },
      "execution_count": 27,
      "outputs": []
    },
    {
      "cell_type": "code",
      "source": [
        "class DecisionTree:\n",
        "    def __init__(self, num_classes=None, max_depth=3, cost_fn=cost_misclassification, min_leaf_instances=1, prt_ftr=False):\n",
        "        self.max_depth = max_depth      #maximum depth for termination\n",
        "        self.root = None                #stores the root of the decision tree\n",
        "        self.cost_fn = cost_fn          #stores the cost function of the decision tree\n",
        "        self.num_classes = num_classes  #stores the total number of classes\n",
        "        self.min_leaf_instances = min_leaf_instances  #minimum number of instances in a leaf for termination\n",
        "        self.print_feature = prt_ftr\n",
        "\n",
        "    def fit(self, data, labels):\n",
        "\n",
        "        self.data = data\n",
        "        self.labels = labels\n",
        "        if self.num_classes is None:\n",
        "            self.num_classes = np.max(labels) + 1\n",
        "        #below are initialization of the root of the decision tree\n",
        "        self.root = Node(np.arange(data.shape[0]), None)\n",
        "        self.root.data = data\n",
        "        self.root.labels = labels\n",
        "        self.root.num_classes = self.num_classes\n",
        "        self.root.depth = 0\n",
        "        #to recursively build the rest of the tree\n",
        "        self._fit_tree(self.root)\n",
        "\n",
        "        return self\n",
        "\n",
        "    def _fit_tree(self, node):\n",
        "\n",
        "        #This gives the condition for termination of the recursion resulting in a leaf node\n",
        "        if node.depth == self.max_depth or len(node.data_indices) <= self.min_leaf_instances:\n",
        "            return\n",
        "        #greedily select the best test by minimizing the cost\n",
        "        cost, split_feature, split_value = greedy_test(node, self.cost_fn)\n",
        "        #if the cost returned is infinity it means that it is not possible to split the node and hence terminate\n",
        "        if np.isinf(cost):\n",
        "            return\n",
        "        if self.print_feature:\n",
        "          print(f'best feature: {split_feature}, value {split_value}, cost {cost}')\n",
        "\n",
        "        # if split_feature<9:\n",
        "        #   feat_count[split_feature]=feat_count[split_feature]+1\n",
        "        #to get a boolean array suggesting which data indices corresponding to this node are in the left of the split\n",
        "        test = node.data[node.data_indices,split_feature] <= split_value\n",
        "        #store the split feature and value of the node\n",
        "        node.split_feature = split_feature\n",
        "        node.split_value = split_value\n",
        "        #define new nodes which are going to be the left and right child of the present node\n",
        "        left = Node(node.data_indices[test], node)\n",
        "        right = Node(node.data_indices[np.logical_not(test)], node)\n",
        "        #recursive call to the _fit_tree()\n",
        "        self._fit_tree(left)\n",
        "        self._fit_tree(right)\n",
        "        #assign the left and right child to present child\n",
        "        node.left = left\n",
        "        node.right = right\n",
        "\n",
        "    def predict(self, data_test):\n",
        "        class_probs = np.zeros((data_test.shape[0], self.num_classes))\n",
        "        for n, x in enumerate(data_test):\n",
        "            node = self.root\n",
        "            #loop along the dept of the tree looking region where the present data sample fall in based on the split feature and value\n",
        "            while node.left:\n",
        "                if x[node.split_feature] <= node.split_value:\n",
        "                    node = node.left\n",
        "                else:\n",
        "                    node = node.right\n",
        "            #the loop terminates when you reach a leaf of the tree and the class probability of that node is taken for prediction\n",
        "            class_probs[n,:] = node.class_prob\n",
        "        return class_probs"
      ],
      "metadata": {
        "id": "M-EJYssFqWpS"
      },
      "execution_count": 28,
      "outputs": []
    },
    {
      "cell_type": "markdown",
      "source": [
        "Function for evaluating accuracy"
      ],
      "metadata": {
        "id": "gT9WrtmVWQ4l"
      }
    },
    {
      "cell_type": "code",
      "source": [
        "def evaluate_acc(y_true, y_pred):\n",
        "  return np.sum(y_pred==y_true)/len(y_true)"
      ],
      "metadata": {
        "id": "WegZvwU0w1mP"
      },
      "execution_count": 29,
      "outputs": []
    },
    {
      "cell_type": "markdown",
      "source": [
        "## Task 3: Experiments"
      ],
      "metadata": {
        "id": "MULs4hdxyOcX"
      }
    },
    {
      "cell_type": "markdown",
      "source": [
        "### KNN"
      ],
      "metadata": {
        "id": "mE99Z_oIv1Y3"
      }
    },
    {
      "cell_type": "markdown",
      "source": [
        "Splitting the data into 3 sets: training, validation and test"
      ],
      "metadata": {
        "id": "DJxLr7YSLQfX"
      }
    },
    {
      "cell_type": "code",
      "source": [
        "from sklearn import model_selection\n",
        "\n",
        "# NHANES dataset\n",
        "nhanes_X_train, nhanes_X_test, nhanes_y_train, nhanes_y_test = model_selection.train_test_split(nhanes_age_prediction_subset_X_scaled, nhanes_age_prediction_subset_y_encoded, test_size=0.1, random_state=1, shuffle=True)\n",
        "print(nhanes_X_test.shape)\n",
        "#print(nhanes_X_train.shape)\n",
        "nhanes_X_train, nhanes_X_val, nhanes_y_train, nhanes_y_val = model_selection.train_test_split(nhanes_X_train, nhanes_y_train, test_size=0.2, random_state=1, shuffle=True)\n",
        "print(nhanes_X_val.shape)\n",
        "print(nhanes_X_train.shape)\n",
        "# print(nhanes_X_train)\n",
        "# print(nhanes_y_train)\n",
        "nhanes_y_train = nhanes_y_train.to_numpy()\n",
        "nhanes_y_val = nhanes_y_val.to_numpy()\n",
        "nhanes_y_test = nhanes_y_test.to_numpy()\n",
        "print(nhanes_y_train.shape)\n",
        "\n",
        "# Breast cancer dataset\n",
        "breast_cancer_X_train, breast_cancer_X_test, breast_cancer_y_train, breast_cancer_y_test = model_selection.train_test_split(breast_cancer_wisconsin_original_X, breast_cancer_wisconsin_original_y_encoded, test_size=0.1, random_state=1, shuffle=True)\n",
        "print(breast_cancer_X_test.shape)\n",
        "breast_cancer_X_train, breast_cancer_X_val, breast_cancer_y_train, breast_cancer_y_val = model_selection.train_test_split(breast_cancer_X_train, breast_cancer_y_train, test_size=0.2, random_state=1, shuffle=True)\n",
        "print(breast_cancer_X_val.shape)\n",
        "print(breast_cancer_X_train.shape)\n",
        "breast_cancer_y_train = breast_cancer_y_train.to_numpy()\n",
        "breast_cancer_y_val = breast_cancer_y_val.to_numpy()\n",
        "breast_cancer_y_test = breast_cancer_y_test.to_numpy()\n",
        "print(breast_cancer_y_train.shape)"
      ],
      "metadata": {
        "colab": {
          "base_uri": "https://localhost:8080/"
        },
        "id": "dzPhLKQZ0wSQ",
        "outputId": "75dc1406-9250-4937-f873-1f33c0ba19ad"
      },
      "execution_count": 30,
      "outputs": [
        {
          "output_type": "stream",
          "name": "stdout",
          "text": [
            "(228, 3)\n",
            "(410, 3)\n",
            "(1640, 3)\n",
            "(1640,)\n",
            "(70, 8)\n",
            "(126, 8)\n",
            "(503, 8)\n",
            "(503,)\n"
          ]
        }
      ]
    },
    {
      "cell_type": "markdown",
      "source": [
        "Best K on NHANES dataset with Euclidean distance function"
      ],
      "metadata": {
        "id": "-N17H7fjLZZN"
      }
    },
    {
      "cell_type": "code",
      "source": [
        "# predict using validation set to choose best K\n",
        "model_choices=[]\n",
        "valid_acc = []\n",
        "test_acc = []\n",
        "\n",
        "for k in range(1,11):\n",
        "    knn = KNN(K=k, ) # create a KNN object (OOP)\n",
        "    knn.fit(nhanes_X_train, nhanes_y_train)\n",
        "    y_train_va_prob,_ = knn.predict(nhanes_X_val)\n",
        "    y_train_va_pred = np.argmax(y_train_va_prob,axis=-1)\n",
        "    val_accuracy = evaluate_acc(nhanes_y_val, y_train_va_pred)\n",
        "    y_test_prob,_ = knn.predict(nhanes_X_test)\n",
        "    y_test_pred = np.argmax(y_test_prob, axis=-1)\n",
        "    test_accuracy = evaluate_acc(nhanes_y_test, y_test_pred)\n",
        "    model_choices.append(k)\n",
        "    valid_acc.append(val_accuracy)\n",
        "    test_acc.append(test_accuracy)\n",
        "\n",
        "# use the best K to predict test data\n",
        "best_valid_K = model_choices[valid_acc.index(max(valid_acc))]\n",
        "knn = KNN(K=best_valid_K)\n",
        "y_test_prob,_ = knn.fit(nhanes_X_train, nhanes_y_train).predict(nhanes_X_test)\n",
        "y_test_pred = np.argmax(y_test_prob, axis=-1)\n",
        "test_accuracy = evaluate_acc(nhanes_y_test, y_test_pred)\n",
        "print(f'best K = {best_valid_K}, test accuracy = {test_accuracy}')\n",
        "\n",
        "plt.plot(model_choices, valid_acc, marker='o', color='blue', label='validation')\n",
        "plt.plot(model_choices, test_acc, marker='^', color='red', label='testing')\n",
        "plt.plot(best_valid_K, test_accuracy, marker='*', color='green', label='best k from validation')\n",
        "plt.xlabel(\"K\")\n",
        "plt.ylabel(\"Accuracy\")\n",
        "plt.legend(loc='best')\n",
        "plt.title(\"Choice of K for KNN on NHANES age prediction dataset with Euclidean\")\n",
        "plt.savefig('nhanes_age_prediction_KNN_chooseK_E.png',dpi=300,bbox_inches='tight')\n"
      ],
      "metadata": {
        "colab": {
          "base_uri": "https://localhost:8080/",
          "height": 489
        },
        "id": "o579asqezoKa",
        "outputId": "c8b7a0c6-eda3-4520-c096-b10e8e30eae6"
      },
      "execution_count": 31,
      "outputs": [
        {
          "output_type": "stream",
          "name": "stdout",
          "text": [
            "best K = 4, test accuracy = 0.881578947368421\n"
          ]
        },
        {
          "output_type": "display_data",
          "data": {
            "text/plain": [
              "<Figure size 640x480 with 1 Axes>"
            ],
            "image/png": "[encoded data removed]"
          },
          "metadata": {}
        }
      ]
    },
    {
      "cell_type": "markdown",
      "source": [
        "Best K for NHANES dataset with Manhattan distance function"
      ],
      "metadata": {
        "id": "lXIX7FJFLmTw"
      }
    },
    {
      "cell_type": "code",
      "source": [
        "# predict using validation set to choose best K\n",
        "model_choices=[]\n",
        "valid_acc = []\n",
        "test_acc = []\n",
        "\n",
        "for k in range(1,11):\n",
        "    knn = KNN(K=k, dist_fn=manhattan) # create a KNN object (OOP)\n",
        "    knn.fit(nhanes_X_train, nhanes_y_train)\n",
        "    y_train_va_prob,_ = knn.predict(nhanes_X_val)\n",
        "    y_train_va_pred = np.argmax(y_train_va_prob,axis=-1)\n",
        "    val_accuracy = evaluate_acc(nhanes_y_val, y_train_va_pred)\n",
        "    y_test_prob,_ = knn.predict(nhanes_X_test)\n",
        "    y_test_pred = np.argmax(y_test_prob, axis=-1)\n",
        "    test_accuracy = evaluate_acc(nhanes_y_test, y_test_pred)\n",
        "    model_choices.append(k)\n",
        "    valid_acc.append(val_accuracy)\n",
        "    test_acc.append(test_accuracy)\n",
        "\n",
        "# use the best K to predict test data\n",
        "best_valid_K = model_choices[valid_acc.index(max(valid_acc))]\n",
        "knn = KNN(K=best_valid_K, dist_fn=manhattan)\n",
        "y_test_prob,_ = knn.fit(nhanes_X_train, nhanes_y_train).predict(nhanes_X_test)\n",
        "y_test_pred = np.argmax(y_test_prob, axis=-1)\n",
        "test_accuracy = evaluate_acc(nhanes_y_test, y_test_pred)\n",
        "print(f'best K = {best_valid_K}, test accuracy = {test_accuracy}')\n",
        "\n",
        "plt.plot(model_choices, valid_acc, marker='o', color='blue', label='validation')\n",
        "plt.plot(model_choices, test_acc, marker='^', color='red', label='testing')\n",
        "plt.plot(best_valid_K, test_accuracy, marker='*', color='green', label='best k from validation')\n",
        "plt.xlabel(\"K\")\n",
        "plt.ylabel(\"Accuracy\")\n",
        "plt.legend(loc='best')\n",
        "plt.title(\"Choice of K for KNN on NHANES age prediction dataset with Manhattan\")\n",
        "plt.savefig('nhanes_age_prediction_KNN_chooseK_M.png',dpi=300,bbox_inches='tight')"
      ],
      "metadata": {
        "colab": {
          "base_uri": "https://localhost:8080/",
          "height": 489
        },
        "id": "GmyjHAKxuHzr",
        "outputId": "f83da196-a5f1-407e-e0e9-3474a48a6f32"
      },
      "execution_count": 32,
      "outputs": [
        {
          "output_type": "stream",
          "name": "stdout",
          "text": [
            "best K = 6, test accuracy = 0.881578947368421\n"
          ]
        },
        {
          "output_type": "display_data",
          "data": {
            "text/plain": [
              "<Figure size 640x480 with 1 Axes>"
            ],
            "image/png": "[encoded data removed]"
          },
          "metadata": {}
        }
      ]
    },
    {
      "cell_type": "markdown",
      "source": [
        "Plotting results for K=6 with NHANES dataset using Manhattan distance function\n",
        "\n",
        "(note: features were standardized, so numbers are not the originals)"
      ],
      "metadata": {
        "id": "dt_HULkALvZm"
      }
    },
    {
      "cell_type": "code",
      "source": [
        "# arbitrarily chose Manhattan since both Euclidean and Manhattan had the same test accuracy for their respective best K\n",
        "knn = KNN(K=6, dist_fn=manhattan)\n",
        "y_test_prob,_ = knn.fit(nhanes_X_train, nhanes_y_train).predict(nhanes_X_test)\n",
        "y_test_pred = np.argmax(y_test_prob, axis=-1)\n",
        "\n",
        "fig = plt.figure()\n",
        "ax = fig.add_subplot(projection='3d')\n",
        "\n",
        "#boolean array to later slice the indexes of correct and incorrect predictions\n",
        "correct = nhanes_y_test == y_test_pred\n",
        "incorrect = np.logical_not(correct)\n",
        "\n",
        "#visualization of the points\n",
        "ax.scatter(nhanes_X_train[:,0], nhanes_X_train[:,1], nhanes_X_train[:,2], c=nhanes_y_train, marker='o', alpha=.2, label='train')\n",
        "ax.scatter(nhanes_X_test[correct,0], nhanes_X_test[correct,1], nhanes_X_test[correct,2], marker='.', c=y_test_pred[correct], label='correct')\n",
        "ax.scatter(nhanes_X_test[incorrect,0], nhanes_X_test[incorrect,1], nhanes_X_test[incorrect,2], marker='x', c=nhanes_y_test[incorrect], label='misclassified')\n",
        "\n",
        "ax.set_xlabel('Blood Glucose after fasting')\n",
        "ax.set_ylabel('Oral')\n",
        "ax.set_zlabel('Blood Insulin levels')\n",
        "ax.legend()\n",
        "plt.savefig('nhanes_KNN'+str(6)+'.png',dpi=300)\n",
        "plt.show() # labels got a bit cut off here but can check the saved file instead to see full picture"
      ],
      "metadata": {
        "colab": {
          "base_uri": "https://localhost:8080/",
          "height": 411
        },
        "id": "0R1gyHN0KojK",
        "outputId": "def2a520-154c-4c6c-bec2-23b5bc44bcf3"
      },
      "execution_count": 33,
      "outputs": [
        {
          "output_type": "display_data",
          "data": {
            "text/plain": [
              "<Figure size 640x480 with 1 Axes>"
            ],
            "image/png": "[encoded data removed]"
          },
          "metadata": {}
        }
      ]
    },
    {
      "cell_type": "markdown",
      "source": [
        "From the plot above, it seems like most of the data is concentrated in an area with some outliers lying outside of it."
      ],
      "metadata": {
        "id": "vRo3BQJkuvYe"
      }
    },
    {
      "cell_type": "markdown",
      "source": [
        "Best K on breast cancer dataset with Euclidean distance function"
      ],
      "metadata": {
        "id": "N7mTZi4UcNTN"
      }
    },
    {
      "cell_type": "code",
      "source": [
        "# predict using validation set to choose best K\n",
        "model_choices=[]\n",
        "valid_acc = []\n",
        "test_acc = []\n",
        "\n",
        "for k in range(1,11):\n",
        "    knn = KNN(K=k) # create a KNN object (OOP)\n",
        "    knn.fit(breast_cancer_X_train, breast_cancer_y_train)\n",
        "    y_train_va_prob,_ = knn.predict(breast_cancer_X_val)\n",
        "    y_train_va_pred = np.argmax(y_train_va_prob,axis=-1)\n",
        "    val_accuracy = evaluate_acc(breast_cancer_y_val, y_train_va_pred)\n",
        "    y_test_prob,_ = knn.predict(breast_cancer_X_test)\n",
        "    y_test_pred = np.argmax(y_test_prob, axis=-1)\n",
        "    test_accuracy = evaluate_acc(breast_cancer_y_test, y_test_pred)\n",
        "    model_choices.append(k)\n",
        "    valid_acc.append(val_accuracy)\n",
        "    test_acc.append(test_accuracy)\n",
        "\n",
        "# use the best K to predict test data\n",
        "best_valid_K = model_choices[valid_acc.index(max(valid_acc))]\n",
        "knn = KNN(K=best_valid_K)\n",
        "y_test_prob,_ = knn.fit(breast_cancer_X_train, breast_cancer_y_train).predict(breast_cancer_X_test)\n",
        "y_test_pred = np.argmax(y_test_prob, axis=-1)\n",
        "test_accuracy = evaluate_acc(breast_cancer_y_test, y_test_pred)\n",
        "print(f'best K = {best_valid_K}, test accuracy = {test_accuracy}')\n",
        "\n",
        "plt.plot(model_choices, valid_acc, marker='o', color='blue', label='validation')\n",
        "plt.plot(model_choices, test_acc, marker='^', color='red', label='testing')\n",
        "plt.plot(best_valid_K, test_accuracy, marker='*', color='green', label='best k from validation')\n",
        "plt.xlabel(\"K\")\n",
        "plt.ylabel(\"Accuracy\")\n",
        "plt.legend(loc='best')\n",
        "plt.title(\"Choice of K for KNN on breast cancer dataset with Euclidean\")\n",
        "plt.savefig('breast_cancer_prediction_KNN_chooseK_E.png',dpi=300,bbox_inches='tight')"
      ],
      "metadata": {
        "colab": {
          "base_uri": "https://localhost:8080/",
          "height": 489
        },
        "id": "HvAn-toev5IF",
        "outputId": "b55c76e4-f872-46d9-9154-9998b0f071e5"
      },
      "execution_count": 34,
      "outputs": [
        {
          "output_type": "stream",
          "name": "stdout",
          "text": [
            "best K = 7, test accuracy = 0.9571428571428572\n"
          ]
        },
        {
          "output_type": "display_data",
          "data": {
            "text/plain": [
              "<Figure size 640x480 with 1 Axes>"
            ],
            "image/png": "[encoded data removed]"
          },
          "metadata": {}
        }
      ]
    },
    {
      "cell_type": "markdown",
      "source": [
        "Best K on breast cancer dataset with Manhattan distance function"
      ],
      "metadata": {
        "id": "k2HGrmL7cWhx"
      }
    },
    {
      "cell_type": "code",
      "source": [
        "# predict using validation set to choose best K\n",
        "model_choices=[]\n",
        "valid_acc = []\n",
        "test_acc = []\n",
        "\n",
        "for k in range(1,11):\n",
        "    knn = KNN(K=k, dist_fn=manhattan) # create a KNN object (OOP)\n",
        "    knn.fit(breast_cancer_X_train, breast_cancer_y_train)\n",
        "    y_train_va_prob,_ = knn.predict(breast_cancer_X_val)\n",
        "    y_train_va_pred = np.argmax(y_train_va_prob,axis=-1)\n",
        "    val_accuracy = evaluate_acc(breast_cancer_y_val, y_train_va_pred)\n",
        "    y_test_prob,_ = knn.predict(breast_cancer_X_test)\n",
        "    y_test_pred = np.argmax(y_test_prob, axis=-1)\n",
        "    test_accuracy = evaluate_acc(breast_cancer_y_test, y_test_pred)\n",
        "    model_choices.append(k)\n",
        "    valid_acc.append(val_accuracy)\n",
        "    test_acc.append(test_accuracy)\n",
        "\n",
        "# use the best K to predict test data\n",
        "best_valid_K = model_choices[valid_acc.index(max(valid_acc))]\n",
        "knn = KNN(K=best_valid_K, dist_fn=manhattan)\n",
        "y_test_prob,_ = knn.fit(breast_cancer_X_train, breast_cancer_y_train).predict(breast_cancer_X_test)\n",
        "y_test_pred = np.argmax(y_test_prob, axis=-1)\n",
        "test_accuracy = evaluate_acc(breast_cancer_y_test, y_test_pred)\n",
        "print(f'best K = {best_valid_K}, test accuracy = {test_accuracy}')\n",
        "\n",
        "plt.plot(model_choices, valid_acc, marker='o', color='blue', label='validation')\n",
        "plt.plot(model_choices, test_acc, marker='^', color='red', label='testing')\n",
        "plt.plot(best_valid_K, test_accuracy, marker='*', color='green', label='best k from validation')\n",
        "plt.xlabel(\"K\")\n",
        "plt.ylabel(\"Accuracy\")\n",
        "plt.legend(loc='best')\n",
        "plt.title(\"Choice of K for KNN on breast cancer dataset with Manhattan\")\n",
        "plt.savefig('breast_cancer_prediction_KNN_chooseK_M.png',dpi=300,bbox_inches='tight')"
      ],
      "metadata": {
        "colab": {
          "base_uri": "https://localhost:8080/",
          "height": 489
        },
        "id": "PFerETb73ndl",
        "outputId": "5c84d268-5ccd-42b6-d4f7-65b5b05c8269"
      },
      "execution_count": 35,
      "outputs": [
        {
          "output_type": "stream",
          "name": "stdout",
          "text": [
            "best K = 9, test accuracy = 0.9428571428571428\n"
          ]
        },
        {
          "output_type": "display_data",
          "data": {
            "text/plain": [
              "<Figure size 640x480 with 1 Axes>"
            ],
            "image/png": "[encoded data removed]"
          },
          "metadata": {}
        }
      ]
    },
    {
      "cell_type": "markdown",
      "source": [
        "### DT"
      ],
      "metadata": {
        "id": "BL5zsRUUfExN"
      }
    },
    {
      "cell_type": "code",
      "source": [
        "#split and define labels\n",
        "blabels=set(btargets)\n",
        "alabels=set(atargets)\n",
        "\n",
        "# Split half of Data into train and half into test\n",
        "bx_train, by_train = bvalues[:((len(bvalues)//2)+1)], btargets[:((len(bvalues)//2)+1)]\n",
        "bx_test, by_test = bvalues[((len(bvalues)//2)):], btargets[((len(bvalues)//2)):]\n",
        "\n",
        "ax_train, ay_train = avalues[:((len(avalues)//2))], atargets[:((len(avalues)//2))]\n",
        "ax_test, ay_test = avalues[((len(avalues)//2)):], atargets[((len(avalues)//2)):]\n"
      ],
      "metadata": {
        "id": "epUu5h_CffFT"
      },
      "execution_count": 36,
      "outputs": []
    },
    {
      "cell_type": "code",
      "source": [
        "# Try with missclassification\n",
        "tree_a = DecisionTree(max_depth=20)\n",
        "probs_test = tree_a.fit(ax_train, ay_train).predict(ax_test)\n",
        "y_pred_a = np.argmax(probs_test,1)\n",
        "print(evaluate_acc(y_pred_a,ay_test))\n",
        "\n",
        "tree_b = DecisionTree(max_depth=20)\n",
        "probs_test = tree_b.fit(bx_train, by_train).predict(bx_test)\n",
        "y_pred_b = np.argmax(probs_test,1)\n",
        "print(evaluate_acc(y_pred_b,by_test))"
      ],
      "metadata": {
        "colab": {
          "base_uri": "https://localhost:8080/"
        },
        "id": "nfkTEGLsfv2-",
        "outputId": "1a1e3045-2921-4dc4-9fd5-02217d7e326d"
      },
      "execution_count": 37,
      "outputs": [
        {
          "output_type": "stream",
          "name": "stdout",
          "text": [
            "0.7892888498683055\n",
            "0.94\n"
          ]
        }
      ]
    },
    {
      "cell_type": "code",
      "source": [
        "#Try with entropy\n",
        "tree_a = DecisionTree(max_depth=20, cost_fn=cost_entropy)\n",
        "probs_test = tree_a.fit(ax_train, ay_train).predict(ax_test)\n",
        "y_pred_a = np.argmax(probs_test,1)\n",
        "print(evaluate_acc(y_pred_a,ay_test))\n",
        "\n",
        "tree_b = DecisionTree(max_depth=20, cost_fn=cost_entropy)\n",
        "probs_test = tree_b.fit(bx_train, by_train).predict(bx_test)\n",
        "y_pred_b = np.argmax(probs_test,1)\n",
        "print(evaluate_acc(y_pred_b,by_test))"
      ],
      "metadata": {
        "colab": {
          "base_uri": "https://localhost:8080/"
        },
        "id": "-nu2tmJThCQI",
        "outputId": "9791079a-75cd-4750-807e-26fdb18de2f1"
      },
      "execution_count": 38,
      "outputs": [
        {
          "output_type": "stream",
          "name": "stdout",
          "text": [
            "0.7594381035996488\n",
            "0.9514285714285714\n"
          ]
        }
      ]
    },
    {
      "cell_type": "code",
      "source": [
        "# Try with Gini index\n",
        "tree_a = DecisionTree(max_depth=20, cost_fn=cost_gini_index)\n",
        "probs_test = tree_a.fit(ax_train, ay_train).predict(ax_test)\n",
        "y_pred_a = np.argmax(probs_test,1)\n",
        "print(evaluate_acc(y_pred_a,ay_test))\n",
        "\n",
        "tree_b = DecisionTree(max_depth=20, cost_fn=cost_gini_index)\n",
        "probs_test = tree_b.fit(bx_train, by_train).predict(bx_test)\n",
        "y_pred_b = np.argmax(probs_test,1)\n",
        "print(evaluate_acc(y_pred_b,by_test))"
      ],
      "metadata": {
        "colab": {
          "base_uri": "https://localhost:8080/"
        },
        "id": "T1ZN-ceqha_g",
        "outputId": "f7c19b0c-4c47-490c-a9b3-1bb4fbf1328a"
      },
      "execution_count": 39,
      "outputs": [
        {
          "output_type": "stream",
          "name": "stdout",
          "text": [
            "0.7550482879719052\n",
            "0.9542857142857143\n"
          ]
        }
      ]
    },
    {
      "cell_type": "code",
      "source": [
        "# Max tree_depth = 1 and missclassification\n",
        "tree_a = DecisionTree(max_depth=1)\n",
        "probs_test = tree_a.fit(ax_train, ay_train).predict(ax_test)\n",
        "y_pred_a = np.argmax(probs_test,1)\n",
        "print(evaluate_acc(y_pred_a,ay_test))\n",
        "\n",
        "tree_b = DecisionTree(max_depth=1)\n",
        "probs_test = tree_b.fit(bx_train, by_train).predict(bx_test)\n",
        "y_pred_b = np.argmax(probs_test,1)\n",
        "print(evaluate_acc(y_pred_b,by_test))"
      ],
      "metadata": {
        "id": "3UeZN7EThuuP",
        "colab": {
          "base_uri": "https://localhost:8080/"
        },
        "outputId": "d2011cba-6465-4737-dfd7-046e63b10691"
      },
      "execution_count": 40,
      "outputs": [
        {
          "output_type": "stream",
          "name": "stdout",
          "text": [
            "0.835820895522388\n",
            "0.9257142857142857\n"
          ]
        }
      ]
    },
    {
      "cell_type": "code",
      "source": [
        "# Max tree_depth = 5 and missclassification\n",
        "tree_a = DecisionTree(max_depth=5)\n",
        "probs_test = tree_a.fit(ax_train, ay_train).predict(ax_test)\n",
        "y_pred_a = np.argmax(probs_test,1)\n",
        "print(evaluate_acc(y_pred_a,ay_test))\n",
        "\n",
        "tree_b = DecisionTree(max_depth=5)\n",
        "probs_test = tree_b.fit(bx_train, by_train).predict(bx_test)\n",
        "y_pred_b = np.argmax(probs_test,1)\n",
        "print(evaluate_acc(y_pred_b,by_test))"
      ],
      "metadata": {
        "colab": {
          "base_uri": "https://localhost:8080/"
        },
        "id": "KpACGEmKwUAs",
        "outputId": "62b50eee-96d4-4aee-ab52-736dd3d7cdc2"
      },
      "execution_count": 41,
      "outputs": [
        {
          "output_type": "stream",
          "name": "stdout",
          "text": [
            "0.835820895522388\n",
            "0.9514285714285714\n"
          ]
        }
      ]
    },
    {
      "cell_type": "code",
      "source": [
        "# Max tree_depth = 10 and missclassification\n",
        "tree_a = DecisionTree(max_depth=10)\n",
        "probs_test = tree_a.fit(ax_train, ay_train).predict(ax_test)\n",
        "y_pred_a = np.argmax(probs_test,1)\n",
        "print(evaluate_acc(y_pred_a,ay_test))\n",
        "\n",
        "tree_b = DecisionTree(max_depth=10)\n",
        "probs_test = tree_b.fit(bx_train, by_train).predict(bx_test)\n",
        "y_pred_b = np.argmax(probs_test,1)\n",
        "print(evaluate_acc(y_pred_b,by_test))"
      ],
      "metadata": {
        "colab": {
          "base_uri": "https://localhost:8080/"
        },
        "id": "kGVGjhPi2lVh",
        "outputId": "29e446c9-23ad-4d30-f70a-0cb8df6f4762"
      },
      "execution_count": 42,
      "outputs": [
        {
          "output_type": "stream",
          "name": "stdout",
          "text": [
            "0.8287971905179983\n",
            "0.94\n"
          ]
        }
      ]
    },
    {
      "cell_type": "code",
      "source": [
        "# Max tree_depth = 15 and missclassification\n",
        "tree_a = DecisionTree(max_depth=15)\n",
        "probs_test = tree_a.fit(ax_train, ay_train).predict(ax_test)\n",
        "y_pred_a = np.argmax(probs_test,1)\n",
        "print(evaluate_acc(y_pred_a,ay_test))\n",
        "\n",
        "tree_b = DecisionTree(max_depth=15)\n",
        "probs_test = tree_b.fit(bx_train, by_train).predict(bx_test)\n",
        "y_pred_b = np.argmax(probs_test,1)\n",
        "print(evaluate_acc(y_pred_b,by_test))"
      ],
      "metadata": {
        "colab": {
          "base_uri": "https://localhost:8080/"
        },
        "id": "udWLx6923Daz",
        "outputId": "7192bc79-7b40-4d06-d40e-b6d758713f55"
      },
      "execution_count": 43,
      "outputs": [
        {
          "output_type": "stream",
          "name": "stdout",
          "text": [
            "0.810359964881475\n",
            "0.94\n"
          ]
        }
      ]
    },
    {
      "cell_type": "code",
      "source": [
        "# Re split Data to use all features for age\n",
        "ax_train, ay_train = araw[:((len(araw)//2))], atargets[:((len(araw)//2))]\n",
        "ax_test, ay_test = araw[((len(avalues)//2)):], atargets[((len(araw)//2)):]\n",
        "\n",
        "\n",
        "tree_a = DecisionTree(max_depth=10, prt_ftr=True)\n",
        "probs_test = tree_a.fit(ax_train, ay_train).predict(ax_test)\n",
        "y_pred_a = np.argmax(probs_test,1)\n",
        "print(evaluate_acc(y_pred_a,ay_test))"
      ],
      "metadata": {
        "colab": {
          "base_uri": "https://localhost:8080/"
        },
        "id": "ojrOB4WpIUBN",
        "outputId": "99329ecf-278f-491d-b3cd-c8155ba37d9e"
      },
      "execution_count": 44,
      "outputs": [
        {
          "output_type": "stream",
          "name": "stdout",
          "text": [
            "best feature: 2, value 15.0, cost 0.15539947322212463\n",
            "best feature: 0, value 1.5, cost 0.0\n",
            "best feature: 1, value 1.0, cost 0.15539947322212463\n",
            "best feature: 5, value 250.0, cost 0.011413520632133453\n",
            "best feature: 2, value 17.4, cost 0.011413520632133441\n",
            "best feature: 2, value 39.45, cost 0.011413520632133443\n",
            "best feature: 2, value 39.1, cost 0.01053555750658472\n",
            "best feature: 4, value 1.5, cost 0.009657594381035991\n",
            "best feature: 2, value 18.1, cost 0.00965759438103599\n",
            "best feature: 0, value 1.5, cost 0.0\n",
            "best feature: 3, value 103.5, cost 0.0\n",
            "best feature: 2, value 24.35, cost 0.00965759438103599\n",
            "best feature: 3, value 107.0, cost 0.0026338893766461795\n",
            "best feature: 2, value 26.3, cost 0.006145741878841082\n",
            "best feature: 0, value 1.0, cost 0.0\n",
            "best feature: 2, value 40.15, cost 0.0\n",
            "best feature: 2, value 40.7, cost 0.0\n",
            "best feature: 2, value 41.15, cost 0.0\n",
            "best feature: 2, value 42.25, cost 0.0\n",
            "best feature: 2, value 39.75, cost 0.0\n",
            "best feature: 2, value 40.45, cost 0.0\n",
            "best feature: 2, value 42.35, cost 0.0\n",
            "best feature: 2, value 44.0, cost 0.0\n",
            "best feature: 2, value 15.8, cost 0.14310798946444245\n",
            "best feature: 0, value 1.5, cost 0.0\n",
            "best feature: 2, value 17.45, cost 0.14310798946444245\n",
            "best feature: 0, value 1.0, cost 0.0\n",
            "best feature: 2, value 16.0, cost 0.0\n",
            "best feature: 2, value 16.1, cost 0.0\n",
            "best feature: 3, value 95.5, cost 0.0\n",
            "best feature: 2, value 17.15, cost 0.0\n",
            "best feature: 2, value 17.25, cost 0.0\n",
            "best feature: 3, value 101.5, cost 0.0\n",
            "best feature: 2, value 16.2, cost 0.0\n",
            "best feature: 2, value 16.65, cost 0.0\n",
            "best feature: 2, value 16.85, cost 0.0\n",
            "best feature: 2, value 17.0, cost 0.0\n",
            "best feature: 2, value 17.1, cost 0.0\n",
            "best feature: 2, value 19.8, cost 0.14310798946444245\n",
            "best feature: 2, value 18.25, cost 0.0061457418788410855\n",
            "best feature: 3, value 98.0, cost 0.0008779631255487267\n",
            "best feature: 2, value 17.9, cost 0.0008779631255487267\n",
            "best feature: 3, value 95.5, cost 0.0\n",
            "best feature: 0, value 1.0, cost 0.0\n",
            "best feature: 0, value 1.0, cost 0.0\n",
            "best feature: 2, value 18.05, cost 0.0\n",
            "best feature: 3, value 104.0, cost 0.004389815627743632\n",
            "best feature: 2, value 19.6, cost 0.0035118525021949057\n",
            "best feature: 0, value 1.0, cost 0.0026338893766461795\n",
            "best feature: 3, value 88.0, cost 0.000877963125548727\n",
            "best feature: 2, value 18.5, cost 0.0008779631255487262\n",
            "best feature: 6, value 3.675, cost 0.0\n",
            "best feature: 0, value 1.0, cost 0.0\n",
            "best feature: 2, value 18.700000000000003, cost 0.0008779631255487267\n",
            "best feature: 0, value 1.0, cost 0.000877963125548727\n",
            "best feature: 2, value 19.25, cost 0.0\n",
            "best feature: 2, value 19.049999999999997, cost 0.0\n",
            "best feature: 6, value 1.28, cost 0.13608428446005266\n",
            "best feature: 2, value 24.6, cost 0.13608428446005263\n",
            "best feature: 5, value 170.0, cost 0.027216856892010546\n",
            "best feature: 5, value 117.0, cost 0.023705004389815616\n",
            "best feature: 6, value 11.27, cost 0.01492537313432835\n",
            "best feature: 3, value 82.5, cost 0.007901668129938541\n",
            "best feature: 5, value 228.5, cost 0.0017559262510974535\n",
            "best feature: 6, value 12.885, cost 0.0008779631255487267\n",
            "best feature: 0, value 1.5, cost 0.0\n",
            "best feature: 2, value 24.8, cost 0.10272168568920105\n",
            "best feature: 3, value 91.5, cost 0.0008779631255487267\n",
            "best feature: 0, value 1.5, cost 0.0\n",
            "best feature: 3, value 93.5, cost 0.0008779631255487267\n",
            "best feature: 2, value 26.0, cost 0.10008779631255485\n",
            "best feature: 5, value 187.0, cost 0.012291483757682175\n",
            "best feature: 2, value 26.6, cost 0.08604038630377521\n",
            "0.8129938542581212\n"
          ]
        }
      ]
    },
    {
      "cell_type": "markdown",
      "source": [
        "With max tree size = 10, for the age data set the top 5 features are, in order, 2,3,0,5,6"
      ],
      "metadata": {
        "id": "YLG42aNcKWtN"
      }
    },
    {
      "cell_type": "code",
      "source": [
        "#Remake breast cancer tree  tree while counting number of features\n",
        "tree_b = DecisionTree(max_depth=10, prt_ftr=True)\n",
        "probs_test = tree_b.fit(bx_train, by_train).predict(bx_test)\n",
        "y_pred_b = np.argmax(probs_test,1)\n",
        "print(evaluate_acc(y_pred_b,by_test))"
      ],
      "metadata": {
        "id": "wpBFiMrS6CHH",
        "colab": {
          "base_uri": "https://localhost:8080/"
        },
        "outputId": "521961c5-1a4f-4b96-b8ef-da81b0ffcf9a"
      },
      "execution_count": 47,
      "outputs": [
        {
          "output_type": "stream",
          "name": "stdout",
          "text": [
            "best feature: 1, value 2.0, cost 0.07999999999999997\n",
            "best feature: 0, value 6.0, cost 0.017142857142857123\n",
            "best feature: 5, value 5.0, cost 0.008571428571428556\n",
            "best feature: 7, value 9.0, cost 0.0028571428571428597\n",
            "best feature: 3, value 3.0, cost 0.0028571428571428407\n",
            "best feature: 4, value 2.0, cost 0.002857142857142842\n",
            "best feature: 0, value 2.0, cost 0.002857142857142847\n",
            "best feature: 0, value 1.0, cost 0.0\n",
            "best feature: 1, value 1.0, cost 0.0\n",
            "best feature: 2, value 1.0, cost 0.0\n",
            "best feature: 2, value 2.0, cost 0.0\n",
            "best feature: 1, value 1.0, cost 0.0\n",
            "best feature: 2, value 1.0, cost 0.0\n",
            "best feature: 6, value 3.0, cost 0.002857142857142847\n",
            "best feature: 5, value 3.0, cost 0.0\n",
            "best feature: 0, value 3.0, cost 0.0\n",
            "best feature: 0, value 3.0, cost 0.0\n",
            "best feature: 5, value 3.5, cost 0.0\n",
            "best feature: 0, value 1.0, cost 0.0\n",
            "best feature: 4, value 3.5, cost 0.0\n",
            "best feature: 4, value 4.5, cost 0.0\n",
            "best feature: 4, value 7.5, cost 0.0\n",
            "best feature: 0, value 2.0, cost 0.0\n",
            "best feature: 3, value 1.0, cost 0.0\n",
            "best feature: 0, value 3.0, cost 0.0\n",
            "best feature: 3, value 1.0, cost 0.0\n",
            "best feature: 1, value 1.0, cost 0.0\n",
            "best feature: 0, value 1.0, cost 0.0\n",
            "best feature: 2, value 1.0, cost 0.0\n",
            "best feature: 4, value 1.5, cost 0.0\n",
            "best feature: 6, value 2.5, cost 0.0\n",
            "best feature: 2, value 2.5, cost 0.0\n",
            "best feature: 0, value 3.0, cost 0.0\n",
            "best feature: 2, value 1.0, cost 0.0\n",
            "best feature: 2, value 3.5, cost 0.0\n",
            "best feature: 0, value 4.5, cost 0.0\n",
            "best feature: 3, value 2.5, cost 0.0\n",
            "best feature: 6, value 2.0, cost 0.0\n",
            "best feature: 0, value 7.0, cost 0.0\n",
            "best feature: 4, value 4.5, cost 0.0\n",
            "best feature: 0, value 8.0, cost 0.0\n",
            "best feature: 2, value 3.5, cost 0.0\n",
            "best feature: 0, value 9.5, cost 0.0\n",
            "best feature: 5, value 3.0, cost 0.03999999999999998\n",
            "best feature: 0, value 3.0, cost 0.011428571428571429\n",
            "best feature: 1, value 3.0, cost 0.0\n",
            "best feature: 0, value 1.0, cost 0.0\n",
            "best feature: 2, value 2.0, cost 0.0\n",
            "best feature: 4, value 2.5, cost 0.0\n",
            "best feature: 2, value 1.5, cost 0.005714285714285717\n",
            "best feature: 0, value 7.0, cost 0.005714285714285713\n",
            "best feature: 0, value 5.0, cost 0.0\n",
            "best feature: 1, value 3.0, cost 0.0\n",
            "best feature: 2, value 4.0, cost 0.0\n",
            "best feature: 1, value 8.0, cost 0.0\n",
            "best feature: 0, value 6.0, cost 0.0\n",
            "best feature: 1, value 6.5, cost 0.0\n",
            "best feature: 1, value 3.5, cost 0.0\n",
            "best feature: 1, value 6.0, cost 0.0\n",
            "best feature: 1, value 8.5, cost 0.0\n",
            "best feature: 0, value 8.0, cost 0.002857142857142857\n",
            "best feature: 1, value 5.0, cost 0.0\n",
            "best feature: 1, value 3.5, cost 0.0\n",
            "best feature: 0, value 9.0, cost 0.0\n",
            "best feature: 1, value 5.0, cost 0.0\n",
            "best feature: 2, value 6.5, cost 0.0\n",
            "best feature: 1, value 4.0, cost 0.0\n",
            "best feature: 2, value 2.5, cost 0.0\n",
            "best feature: 1, value 9.0, cost 0.0\n",
            "best feature: 3, value 6.0, cost 0.0\n",
            "best feature: 5, value 4.0, cost 0.019999999999999983\n",
            "best feature: 0, value 5.0, cost 0.0028571428571428567\n",
            "best feature: 1, value 6.5, cost 0.0\n",
            "best feature: 1, value 5.0, cost 0.0028571428571428567\n",
            "best feature: 0, value 6.0, cost 0.002857142857142857\n",
            "best feature: 1, value 9.0, cost 0.0\n",
            "best feature: 0, value 9.0, cost 0.0\n",
            "best feature: 1, value 7.0, cost 0.0\n",
            "best feature: 5, value 5.0, cost 0.017142857142857137\n",
            "best feature: 0, value 6.5, cost 0.002857142857142857\n",
            "best feature: 0, value 3.0, cost 0.0\n",
            "best feature: 0, value 4.5, cost 0.0\n",
            "best feature: 0, value 8.0, cost 0.0\n",
            "best feature: 1, value 8.0, cost 0.0\n",
            "best feature: 0, value 9.5, cost 0.0\n",
            "best feature: 1, value 3.0, cost 0.0\n",
            "best feature: 2, value 5.5, cost 0.0\n",
            "best feature: 1, value 6.5, cost 0.0\n",
            "best feature: 1, value 8.5, cost 0.0\n",
            "best feature: 5, value 8.0, cost 0.011428571428571418\n",
            "best feature: 2, value 4.0, cost 0.005714285714285712\n",
            "best feature: 0, value 6.5, cost 0.0\n",
            "best feature: 0, value 3.5, cost 0.0\n",
            "best feature: 0, value 8.0, cost 0.0028571428571428554\n",
            "best feature: 0, value 3.0, cost 0.0028571428571428567\n",
            "best feature: 0, value 2.0, cost 0.0\n",
            "best feature: 1, value 3.5, cost 0.0\n",
            "best feature: 0, value 6.0, cost 0.0028571428571428567\n",
            "best feature: 3, value 3.0, cost 0.0\n",
            "best feature: 0, value 7.0, cost 0.0\n",
            "best feature: 0, value 9.0, cost 0.0\n",
            "best feature: 1, value 8.0, cost 0.0\n",
            "best feature: 1, value 4.5, cost 0.0\n",
            "best feature: 1, value 5.0, cost 0.0\n",
            "best feature: 5, value 9.0, cost 0.0057142857142857195\n",
            "best feature: 0, value 3.0, cost 0.0\n",
            "best feature: 1, value 6.0, cost 0.0\n",
            "best feature: 0, value 7.0, cost 0.0\n",
            "best feature: 1, value 3.5, cost 0.0\n",
            "best feature: 1, value 5.0, cost 0.0\n",
            "best feature: 1, value 5.0, cost 0.014285714285714275\n",
            "best feature: 0, value 2.0, cost 0.008571428571428567\n",
            "best feature: 0, value 4.5, cost 0.008571428571428567\n",
            "best feature: 0, value 3.0, cost 0.0\n",
            "best feature: 4, value 6.0, cost 0.008571428571428567\n",
            "best feature: 2, value 5.0, cost 0.005714285714285708\n",
            "best feature: 0, value 5.5, cost 0.0\n",
            "best feature: 0, value 7.0, cost 0.0\n",
            "best feature: 3, value 9.0, cost 0.0028571428571428537\n",
            "best feature: 4, value 4.0, cost 0.0028571428571428545\n",
            "best feature: 0, value 3.0, cost 0.0\n",
            "0.94\n"
          ]
        }
      ]
    },
    {
      "cell_type": "markdown",
      "source": [
        "With max tree size = 10, for the cancer data set the top 5 features are, in order, 0,2,1,4, and 5"
      ],
      "metadata": {
        "id": "Ner8YA_aGEvs"
      }
    },
    {
      "cell_type": "markdown",
      "source": [
        "### Reciever Operating Characteristic (ROC) Curve"
      ],
      "metadata": {
        "id": "IvaP-bFqOiPH"
      }
    },
    {
      "cell_type": "code",
      "source": [
        "from sklearn.metrics import confusion_matrix\n",
        "\n",
        "cancer_knn_cm = confusion_matrix(breast_cancer_y_test, y_test_pred)\n",
        "cancer_knn_cm_df = pd.DataFrame(cancer_knn_cm, index=['Actual Negative','Actual Positive'],\n",
        "                     columns=['Predicted Negative', 'Predicted Positive'])\n",
        "print(cancer_knn_cm_df)\n",
        "\n",
        "cancer_dt_cm = confusion_matrix(y_pred_b, by_test)\n",
        "cancer_dt_cm_df = pd.DataFrame(cancer_dt_cm, index=['Actual Negative','Actual Positive'],\n",
        "                     columns=['Predicted Negative', 'Predicted Positive'])\n",
        "print(cancer_dt_cm_df)"
      ],
      "metadata": {
        "id": "sbKew9Sljlv1",
        "colab": {
          "base_uri": "https://localhost:8080/"
        },
        "outputId": "00de63f1-ddb4-4e88-b626-1c749e7b0714"
      },
      "execution_count": 48,
      "outputs": [
        {
          "output_type": "stream",
          "name": "stdout",
          "text": [
            "                 Predicted Negative  Predicted Positive\n",
            "Actual Negative                  45                   1\n",
            "Actual Positive                   3                  21\n",
            "                 Predicted Negative  Predicted Positive\n",
            "Actual Negative                 252                   6\n",
            "Actual Positive                  15                  77\n"
          ]
        }
      ]
    },
    {
      "cell_type": "markdown",
      "source": [
        "ROC Curve for NHANES Dataset providing Comparison for KNN with K = 4 and using Euclidean Distance and\n",
        "DT with max depth 5, and using Misclassification Rate"
      ],
      "metadata": {
        "id": "DPt27SATPzDH"
      }
    },
    {
      "cell_type": "code",
      "source": [
        "from sklearn.metrics import confusion_matrix\n",
        "from sklearn.metrics import roc_curve, roc_auc_score\n",
        "\n",
        "# K-Nearest Neighbour with k: 4 and similarity function: Euclidean Function\n",
        "nhanes_knn = KNN(4)\n",
        "nhanes_knn.fit(nhanes_X_train, nhanes_y_train)\n",
        "y_test_prob,_ = nhanes_knn.predict(nhanes_X_test)\n",
        "y_test_pred = np.argmax(y_test_prob, axis=-1)\n",
        "nhanes_knn_fpr, nhanes_knn_tpr, _ = roc_curve(nhanes_y_test, y_test_pred)\n",
        "nhanes_knn_roc_auc = roc_auc_score(nhanes_y_test, y_test_pred)\n",
        "nhanes_knn_cm = confusion_matrix(nhanes_y_test, y_test_pred)\n",
        "nhanes_knn_cm_df = pd.DataFrame(nhanes_knn_cm, index=['Actual Negative','Actual Positive'],\n",
        "                     columns=['Predicted Negative', 'Predicted Positive'])\n",
        "print(nhanes_knn_cm_df)\n",
        "print(\"KNN Model Accuracy on NHANES Dataset: \")\n",
        "print(evaluate_acc(nhanes_y_test, y_test_pred))\n",
        "\n",
        "# Decision Tree for NHANES Dataset with max depth: 5 and cost function: Misclassification Rate\n",
        "nhanes_dt = DecisionTree(max_depth=10)\n",
        "nhanes_dt.fit(ax_train, ay_train)\n",
        "probs_test = nhanes_dt.predict(ax_test)\n",
        "y_pred_a = np.argmax(probs_test,1)\n",
        "nhanes_dt_fpr, nhanes_dt_tpr, _ = roc_curve(ay_test, y_pred_a)\n",
        "nhanes_dt_roc_auc = roc_auc_score(ay_test, y_pred_a)\n",
        "nhanes_dt_cm = confusion_matrix(ay_test, y_pred_a)\n",
        "nhanes_dt_cm_df = pd.DataFrame(nhanes_dt_cm, index=['Actual Negative','Actual Positive'],\n",
        "                     columns=['Predicted Negative', 'Predicted Positive'])\n",
        "print(nhanes_dt_cm_df)\n",
        "print(\"Decision Tree Model Accuracy on NHANES Dataset: \")\n",
        "print(evaluate_acc(ay_test, y_pred_a))\n",
        "\n",
        "\n",
        "plt.clf()\n",
        "plt.plot(nhanes_knn_fpr, nhanes_knn_tpr, \"b-\", lw=2, label=\"AUROC = %0.2f\"%nhanes_knn_roc_auc)\n",
        "plt.plot(nhanes_dt_fpr, nhanes_dt_tpr, \"g-\", lw=2, label=\"AUROC = %0.2f\"%nhanes_dt_roc_auc)\n",
        "plt.axline((0, 0), (1, 1), linestyle=\"--\", lw=1, color='gray')\n",
        "plt.xlabel('False Positive Rate')\n",
        "plt.ylabel('True Positive Rate')\n",
        "plt.title('ROC in predicting Seniority')\n",
        "plt.legend(loc=\"best\")\n",
        "plt.savefig(\"roc_curve_nhanes.png\",bbox_inches='tight', dpi=300)"
      ],
      "metadata": {
        "id": "NHdmOYKOOrIF",
        "colab": {
          "base_uri": "https://localhost:8080/",
          "height": 646
        },
        "outputId": "240f6782-42fb-4a05-a5ec-4843022af6de"
      },
      "execution_count": 49,
      "outputs": [
        {
          "output_type": "stream",
          "name": "stdout",
          "text": [
            "                 Predicted Negative  Predicted Positive\n",
            "Actual Negative                 196                   7\n",
            "Actual Positive                  20                   5\n",
            "KNN Model Accuracy on NHANES Dataset: \n",
            "0.881578947368421\n",
            "                 Predicted Negative  Predicted Positive\n",
            "Actual Negative                 913                  39\n",
            "Actual Positive                 174                  13\n",
            "Decision Tree Model Accuracy on NHANES Dataset: \n",
            "0.8129938542581212\n"
          ]
        },
        {
          "output_type": "display_data",
          "data": {
            "text/plain": [
              "<Figure size 640x480 with 1 Axes>"
            ],
            "image/png": "[encoded data removed]"
          },
          "metadata": {}
        }
      ]
    },
    {
      "cell_type": "markdown",
      "source": [
        "ROC Curve for Breast Cancer Dataset providing Comparison for KNN with K = 7 and using Euclidean Distance and DT with max depth 5, and using Misclassification Rate"
      ],
      "metadata": {
        "id": "xDL3cPTOa_2B"
      }
    },
    {
      "cell_type": "code",
      "source": [
        "# K-Nearest Neighbour with k: 7 and similarity function: Euclidean Function\n",
        "cancer_knn = KNN(7)\n",
        "cancer_knn.fit(breast_cancer_X_train, breast_cancer_y_train)\n",
        "y_test_prob,_ = cancer_knn.predict(breast_cancer_X_test)\n",
        "y_test_pred = np.argmax(y_test_prob, axis=-1)\n",
        "cancer_knn_fpr, cancer_knn_tpr, _ = roc_curve(breast_cancer_y_test, y_test_pred)\n",
        "cancer_knn_roc_auc = roc_auc_score(breast_cancer_y_test, y_test_pred)\n",
        "cancer_knn_cm = confusion_matrix(breast_cancer_y_test, y_test_pred)\n",
        "cancer_knn_cm_df = pd.DataFrame(cancer_knn_cm, index=['Actual Negative','Actual Positive'],\n",
        "                     columns=['Predicted Negative', 'Predicted Positive'])\n",
        "print(cancer_knn_cm_df)\n",
        "print(\"KNN Model Accuracy on Cancer Dataset: \")\n",
        "print(evaluate_acc(breast_cancer_y_test, y_test_pred))\n",
        "\n",
        "\n",
        "# Decision Tree for Breast Cancer Dataset with max depth: 5 and cost function: Misclassification Rate\n",
        "cancer_dt = DecisionTree(max_depth=5)\n",
        "cancer_dt.fit(bx_train, by_train)\n",
        "probs_test = cancer_dt.predict(bx_test)\n",
        "y_pred_b = np.argmax(probs_test,1)\n",
        "cancer_dt_fpr, cancer_dt_tpr, _ = roc_curve(by_test, y_pred_b)\n",
        "cancer_dt_roc_auc = roc_auc_score(by_test, y_pred_b)\n",
        "cancer_dt_cm = confusion_matrix(y_pred_b, by_test)\n",
        "cancer_dt_cm_df = pd.DataFrame(cancer_dt_cm, index=['Actual Negative','Actual Positive'],\n",
        "                     columns=['Predicted Negative', 'Predicted Positive'])\n",
        "print(cancer_dt_cm_df)\n",
        "print(\"Decision Tree Model Accuracy on Cancer Dataset: \")\n",
        "print(evaluate_acc(y_pred_b, by_test))\n",
        "\n",
        "\n",
        "plt.clf()\n",
        "plt.plot(cancer_knn_fpr, cancer_knn_tpr, \"b-\", lw=2, label=\"AUROC = %0.2f\"%cancer_knn_roc_auc)\n",
        "plt.plot(cancer_dt_fpr, cancer_dt_tpr, \"g-\", lw=2, label=\"AUROC = %0.2f\"%cancer_dt_roc_auc)\n",
        "plt.axline((0, 0), (1, 1), linestyle=\"--\", lw=1, color='gray')\n",
        "plt.xlabel('False Positive Rate')\n",
        "plt.ylabel('True Positive Rate')\n",
        "plt.title('ROC in predicting Breast Cancer')\n",
        "plt.legend(loc=\"best\")\n",
        "plt.savefig(\"roc_curve_nhanes.png\",bbox_inches='tight', dpi=300)"
      ],
      "metadata": {
        "id": "AVk70SDVa-TQ",
        "colab": {
          "base_uri": "https://localhost:8080/",
          "height": 646
        },
        "outputId": "d39b5dd9-928e-49f3-ea12-61d732b2efba"
      },
      "execution_count": 50,
      "outputs": [
        {
          "output_type": "stream",
          "name": "stdout",
          "text": [
            "                 Predicted Negative  Predicted Positive\n",
            "Actual Negative                  45                   1\n",
            "Actual Positive                   2                  22\n",
            "KNN Model Accuracy on Cancer Dataset: \n",
            "0.9571428571428572\n",
            "                 Predicted Negative  Predicted Positive\n",
            "Actual Negative                 254                   4\n",
            "Actual Positive                  13                  79\n",
            "Decision Tree Model Accuracy on Cancer Dataset: \n",
            "0.9514285714285714\n"
          ]
        },
        {
          "output_type": "display_data",
          "data": {
            "text/plain": [
              "<Figure size 640x480 with 1 Axes>"
            ],
            "image/png": "[encoded data removed]"
          },
          "metadata": {}
        }
      ]
    }
  ]
}